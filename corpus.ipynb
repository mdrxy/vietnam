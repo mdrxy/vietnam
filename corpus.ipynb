{
 "cells": [
  {
   "cell_type": "code",
   "execution_count": 200,
   "id": "93791b71-f2c7-4063-84e9-278470de93f4",
   "metadata": {},
   "outputs": [],
   "source": [
    "# Set path to articles folder\n",
    "library(here)\n",
    "folder_path <- here(\"articles\")\n",
    "setwd(folder_path)"
   ]
  },
  {
   "cell_type": "code",
   "execution_count": 201,
   "id": "b034a389-bef3-4def-9c3a-6d3943e2387e",
   "metadata": {},
   "outputs": [],
   "source": [
    "# Create list of .txt files to create corpus from\n",
    "file_list <- list.files(pattern = \"\\\\.txt$\")"
   ]
  },
  {
   "cell_type": "code",
   "execution_count": 229,
   "id": "bb17b013-e33e-4f8d-a4e5-411e13dabef6",
   "metadata": {},
   "outputs": [],
   "source": [
    "# Read in file content by space character\n",
    "read_file_content <- function(file) {\n",
    "    file_content <- suppressWarnings(readLines(file))\n",
    "    file_content <- paste(file_content, collapse = \" \")\n",
    "    return(file_content)\n",
    "}"
   ]
  },
  {
   "cell_type": "code",
   "execution_count": 234,
   "id": "d54c4e56-257d-4905-9c44-5b73af5362b5",
   "metadata": {},
   "outputs": [],
   "source": [
    "# Extract the title\n",
    "extract_title <- function(file_content) {\n",
    "    title <- sub(\"@BODY=.*\", \"\", file_content)\n",
    "    title <- sub(\"@TITLE=\", \"\", title) \n",
    "    title <- gsub(\"\\\\s+\", \" \", gsub(\"(^\\\\s+|\\\\s+$)\", \"\", title)) # remove bizarre spaces\n",
    "    return(title)\n",
    "}"
   ]
  },
  {
   "cell_type": "code",
   "execution_count": 236,
   "id": "b548bb78-9501-40ff-95da-f53ee33debe3",
   "metadata": {},
   "outputs": [],
   "source": [
    "# Extract body text\n",
    "extract_body_text <- function(file) {\n",
    "    body <- sub(\".*@BODY=\", \"\", file)\n",
    "    return(body)\n",
    "}"
   ]
  },
  {
   "cell_type": "code",
   "execution_count": 241,
   "id": "24d1d2cc-c9d9-4a6d-96ce-bbabeaa01214",
   "metadata": {},
   "outputs": [],
   "source": [
    "# Remove punctuation/special characters, a.k.a., ONLY KEEP LETTERS (and spaces)\n",
    "keep_letters <- function(body) {\n",
    "    body_letters_only <- gsub(\"-\", \" \", body_lowercase) # replaces \"-\" with \" \"\n",
    "    body_letters_only <- gsub(\"[^[:alpha:][:space:]]\", \"\", body_letters_only)\n",
    "    body_letters_only <- gsub(\"\\\\s+\", \" \", body_letters_only) # remove multiple sequential spaces\n",
    "    return(body_letters_only)\n",
    "}"
   ]
  },
  {
   "cell_type": "code",
   "execution_count": 244,
   "id": "38d7e793-ccfd-4ef5-a129-125370f03868",
   "metadata": {},
   "outputs": [],
   "source": [
    "# Extract the words (tokenize)\n",
    "tokenize <- function(body_cleaned) {\n",
    "    body_words <- unlist(strsplit(body_letters_only, \" \"))\n",
    "    return(body_words)\n",
    "}"
   ]
  },
  {
   "cell_type": "code",
   "execution_count": 245,
   "id": "d0927c8c-742a-457b-aab2-85198b0bca55",
   "metadata": {},
   "outputs": [],
   "source": [
    "# Remove stop words from body\n",
    "remove_stop_words <- function(body_tokenized) {\n",
    "    body_stop_words_removed <- body_words[!body_words %in% stopwords(\"english\")]\n",
    "    return(body_stop_words_removed)\n",
    "}"
   ]
  },
  {
   "cell_type": "code",
   "execution_count": 248,
   "id": "5b004db3-a18a-46a5-8911-6c8af561b8b5",
   "metadata": {},
   "outputs": [
    {
     "data": {
      "text/html": [
       "'092_04-26-1962_EXCERPTS.DEVELOP.BURNHAMS.VIEWS.ON.WORLD.SITUATION.txt'"
      ],
      "text/latex": [
       "'092\\_04-26-1962\\_EXCERPTS.DEVELOP.BURNHAMS.VIEWS.ON.WORLD.SITUATION.txt'"
      ],
      "text/markdown": [
       "'092_04-26-1962_EXCERPTS.DEVELOP.BURNHAMS.VIEWS.ON.WORLD.SITUATION.txt'"
      ],
      "text/plain": [
       "[1] \"092_04-26-1962_EXCERPTS.DEVELOP.BURNHAMS.VIEWS.ON.WORLD.SITUATION.txt\""
      ]
     },
     "metadata": {},
     "output_type": "display_data"
    }
   ],
   "source": [
    "file_list[1]"
   ]
  },
  {
   "cell_type": "code",
   "execution_count": 247,
   "id": "76c37ebe-668b-4d9d-af98-f237aabf7f5c",
   "metadata": {},
   "outputs": [],
   "source": [
    "# Get data from a file\n",
    "\n",
    "i <- 1\n",
    "ingest <- file_list[i]\n",
    "\n",
    "file_content <- read_file_content(ingest)\n",
    "\n",
    "# Get title\n",
    "title <- extract_title(file_content)\n",
    "\n",
    "# Get body\n",
    "body <- extract_body_text(file_content)\n",
    "body_lowercase <- tolower(body) # Make the body text lowercase\n",
    "body_cleaned <- keep_letters(body_lowercase)\n",
    "body_tokenized <- tokenize(body_cleaned)\n",
    "body_stop_words_removed <- remove_stop_words(body_tokenized)"
   ]
  },
  {
   "cell_type": "code",
   "execution_count": 209,
   "id": "8df5059f-d553-4d76-9e2a-2f89659ef285",
   "metadata": {},
   "outputs": [],
   "source": [
    "# Extract the issue from a 3 digit format, e.g. 096 for issue 96, 112 for 112, etc.\n",
    "issue <- strsplit(ingest, \"_\")[[1]][1]\n",
    "if (grepl(\"^0\", issue)) {\n",
    "  issue <- substring(issue, 2)\n",
    "}"
   ]
  },
  {
   "cell_type": "code",
   "execution_count": 216,
   "id": "25924ff7-7ad5-448e-9ac1-e8d85db69574",
   "metadata": {},
   "outputs": [],
   "source": [
    "# Extract the date from the format mm-dd-yyyy\n",
    "date <- strsplit(ingest, \"_\")[[1]][2]\n",
    "date <- as.Date(date, format = \"%m-%d-%Y\")"
   ]
  },
  {
   "cell_type": "code",
   "execution_count": null,
   "id": "2396784e-908b-4770-81b1-e0f9608f10b6",
   "metadata": {},
   "outputs": [],
   "source": []
  }
 ],
 "metadata": {
  "kernelspec": {
   "display_name": "R 4.2",
   "language": "R",
   "name": "ir"
  },
  "language_info": {
   "codemirror_mode": "r",
   "file_extension": ".r",
   "mimetype": "text/x-r-source",
   "name": "R",
   "pygments_lexer": "r",
   "version": "4.2.2"
  }
 },
 "nbformat": 4,
 "nbformat_minor": 5
}
