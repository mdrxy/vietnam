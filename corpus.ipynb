{
 "cells": [
  {
   "cell_type": "markdown",
   "id": "880d2553-2b2a-4749-b738-c7e1d8f7572f",
   "metadata": {},
   "source": [
    "Define the path to the folder containing the .txt files."
   ]
  },
  {
   "cell_type": "code",
   "execution_count": 1,
   "id": "5e0ae2ac-9990-4f83-bd40-2fb89dfcfee6",
   "metadata": {},
   "outputs": [],
   "source": [
    "folder_path <- \"corpus/\""
   ]
  },
  {
   "cell_type": "code",
   "execution_count": null,
   "id": "f1f05e01-43bf-49f0-a79b-a0f589b29bf6",
   "metadata": {},
   "outputs": [],
   "source": []
  }
 ],
 "metadata": {
  "kernelspec": {
   "display_name": "R 4.2",
   "language": "R",
   "name": "ir"
  },
  "language_info": {
   "codemirror_mode": "r",
   "file_extension": ".r",
   "mimetype": "text/x-r-source",
   "name": "R",
   "pygments_lexer": "r",
   "version": "4.2.2"
  },
  "toc-autonumbering": false
 },
 "nbformat": 4,
 "nbformat_minor": 5
}
