{
 "cells": [
  {
   "cell_type": "code",
   "execution_count": 1,
   "id": "659a6f27-1ded-4a3b-9b84-a46d5a7e611f",
   "metadata": {},
   "outputs": [],
   "source": [
    "# Set folder path\n",
    "folder_path <- \"corpus/\""
   ]
  },
  {
   "cell_type": "code",
   "execution_count": 2,
   "id": "33d953c6-5ab7-4b10-a33f-d7bbedec6ae8",
   "metadata": {},
   "outputs": [],
   "source": [
    "# Read in .txt documents\n",
    "corpus_files <- list.files(path = folder_path, pattern = \"\\\\.txt$\", full.names = TRUE)"
   ]
  },
  {
   "cell_type": "code",
   "execution_count": 3,
   "id": "39719fca-1a2b-4ea3-a644-163be851fa89",
   "metadata": {},
   "outputs": [],
   "source": [
    "# Define regular expression patterns\n",
    "patterns <- c(\"\\\\bUS\\\\b\", \"\\\\bUSA\\\\b\", \"\\\\bU\\\\.S\\\\.\\\\b\", \"\\bU\\\\.S\\\\.A\\\\b\", \"\\\\bU\\\\.S\\\\.A\\\\.\")\n",
    "\n",
    "# \"\\\\bUS\\\\b\" \"US\"\n",
    "# \"\\\\bUSA\\\\b\" \"USA\"\n",
    "# \"\\\\bU\\\\.S\\\\.\\\\b\" \"U.S.\"\n",
    "# \"\\bU\\\\.S\\\\.A\\\\b\" \"U.S.A\"\n",
    "# \"\\\\bU\\\\.S\\\\.A\\\\.\" \"U.S.A.\"\n",
    "# DOESN'T WORK \"[@#^*|\\\\\\\\{}\\\\[\\\\]<>]\" matches any of the characters @, #, ^, *, |, \\, {, }, [, ], <, or >\n",
    "\n",
    "# KWIC multiple contexts/document?"
   ]
  },
  {
   "cell_type": "code",
   "execution_count": 4,
   "id": "1e0731f8-7297-47f7-9468-adf95f8630a4",
   "metadata": {},
   "outputs": [],
   "source": [
    "# KWIC function\n",
    "kwic <- function(filename, patterns, window = 5) { # Window = number of context words before and after the match to display\n",
    "  text <- suppressWarnings(readLines(filename)) # Read in text from the given file (filename)\n",
    "  kwic_rows <- list() # Initialize an empty list to store the KWIC rows\n",
    "  \n",
    "  # Split the line into individual words\n",
    "  for (i in seq_along(text)) {\n",
    "    line <- text[i] \n",
    "    words <- strsplit(line, \"\\\\s+\")[[1]]\n",
    "    \n",
    "    # Loop through each keyword pattern to search for matches\n",
    "    for (pattern in patterns) {\n",
    "      matches <- grep(pattern, words) # Find the positions of the keyword matches in the current line\n",
    "      \n",
    "      # If there are any matches, generate a KWIC row for each one\n",
    "      if (length(matches) > 0) {\n",
    "        for (match in matches) {\n",
    "          start <- max(1, match - window)\n",
    "          end <- min(length(words), match + window)\n",
    "          context <- words[start:end] # Extract the words in the context window\n",
    "            \n",
    "          # Construct a KWIC row with the article's filename, keyword, and context\n",
    "          kwic_rows[[length(kwic_rows) + 1]] <- c(\"Article Filename\" = basename(filename), setNames(paste(context, collapse = \" \"), pattern))\n",
    "            print(pattern)\n",
    "        }\n",
    "      }\n",
    "    }\n",
    "  }\n",
    "    \n",
    "  # If there are any KWIC rows, combine them into a data frame and return it\n",
    "  if (length(kwic_rows) > 0) {\n",
    "    return(do.call(rbind, kwic_rows))\n",
    "  } else {\n",
    "    return(NULL)\n",
    "  }\n",
    "}"
   ]
  },
  {
   "cell_type": "code",
   "execution_count": 5,
   "id": "1c07417b-d9fc-4986-a13b-1f3ba774b0ea",
   "metadata": {},
   "outputs": [],
   "source": [
    "# Function to process the data frame\n",
    "process_dataframe <- function(df) {\n",
    "  # Convert the matrix to a data frame\n",
    "  df <- as.data.frame(df, stringsAsFactors = FALSE)\n",
    "  \n",
    "  # Extract issue number, date, and title from the \"Article Filename\" column\n",
    "  issue <- gsub(\"^([0-9]+)_.*\", \"\\\\1\", df$`Article Filename`)\n",
    "  date <- gsub(\"^[0-9]+_([0-9]+-[0-9]+-[0-9]+).*\", \"\\\\1\", df$`Article Filename`)\n",
    "  title <- gsub(\"^[0-9]+_[0-9]+-[0-9]+-[0-9]+_?(.*)\\\\.txt$\", \"\\\\1\", df$`Article Filename`)\n",
    "  title <- gsub(\"\\\\.\", \" \", title)\n",
    "\n",
    "  # Add the extracted information as new columns to the right\n",
    "  df$Issue <- issue\n",
    "  df$Date <- date\n",
    "  df$Title <- title\n",
    "  \n",
    "  return(df)\n",
    "}"
   ]
  },
  {
   "cell_type": "code",
   "execution_count": 6,
   "id": "adac5cfb-bab4-49b9-90d1-c7c7a7c583e3",
   "metadata": {},
   "outputs": [],
   "source": [
    "# Perform KWIC search\n",
    "kwic_results <- do.call(rbind, lapply(corpus_files, kwic, patterns = patterns))"
   ]
  },
  {
   "cell_type": "code",
   "execution_count": 7,
   "id": "e177135b-de9b-40b4-8a6d-0c3080747e7e",
   "metadata": {},
   "outputs": [
    {
     "data": {
      "text/plain": [
       "NULL"
      ]
     },
     "metadata": {},
     "output_type": "display_data"
    }
   ],
   "source": [
    "kwic_results"
   ]
  },
  {
   "cell_type": "code",
   "execution_count": null,
   "id": "47fe1ee8-0f64-496e-ae5c-1a10ba454869",
   "metadata": {},
   "outputs": [],
   "source": []
  }
 ],
 "metadata": {
  "kernelspec": {
   "display_name": "R 4.2",
   "language": "R",
   "name": "ir"
  },
  "language_info": {
   "codemirror_mode": "r",
   "file_extension": ".r",
   "mimetype": "text/x-r-source",
   "name": "R",
   "pygments_lexer": "r",
   "version": "4.2.2"
  }
 },
 "nbformat": 4,
 "nbformat_minor": 5
}
