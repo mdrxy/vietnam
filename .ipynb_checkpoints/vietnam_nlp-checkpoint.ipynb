{
 "cells": [
  {
   "cell_type": "code",
   "execution_count": 1,
   "id": "e4e6d025-f064-4595-9833-d0dd203f60eb",
   "metadata": {},
   "outputs": [
    {
     "name": "stderr",
     "output_type": "stream",
     "text": [
      "Loading required package: koRpus.lang.en\n",
      "\n",
      "Loading required package: koRpus\n",
      "\n",
      "Loading required package: sylly\n",
      "\n",
      "For information on available language packages for 'koRpus', run\n",
      "\n",
      "  available.koRpus.lang()\n",
      "\n",
      "and see ?install.koRpus.lang()\n",
      "\n",
      "\n",
      "\n",
      "Attaching package: ‘tm’\n",
      "\n",
      "\n",
      "The following object is masked from ‘package:koRpus’:\n",
      "\n",
      "    readTagged\n",
      "\n",
      "\n"
     ]
    }
   ],
   "source": [
    "library(NLP)\n",
    "library(openNLP)\n",
    "library(textstem)\n",
    "library(stringr)\n",
    "library(tm)\n",
    "library(data.table)"
   ]
  },
  {
   "cell_type": "markdown",
   "id": "727f9745-2672-4578-8918-c9f341437b67",
   "metadata": {},
   "source": [
    "## 1. Creating Annotations"
   ]
  },
  {
   "cell_type": "code",
   "execution_count": 1,
   "id": "63621b1f-44ed-414e-bad8-cc0a029076f0",
   "metadata": {},
   "outputs": [],
   "source": [
    "# Code Cell 1\n",
    "data_folder <- \"corpus/\"\n",
    "data_nickname <- \"VietnamOrientArticles\""
   ]
  },
  {
   "cell_type": "code",
   "execution_count": 3,
   "id": "de7a0bc4-dbb4-4cf8-b6ec-2f91a67dc14c",
   "metadata": {},
   "outputs": [],
   "source": [
    "path <- data_folder\n",
    "filenames <- dir(path)"
   ]
  },
  {
   "cell_type": "code",
   "execution_count": 4,
   "id": "449af2f8-447b-49b8-a75d-a612eb19abe4",
   "metadata": {},
   "outputs": [],
   "source": [
    "#Code Cell 2\n",
    "titles <- character()\n",
    "rawtitles <- filenames\n",
    "for (i in 1:length(rawtitles)){\n",
    "    workingfilename <- unlist(strsplit(rawtitles[i], split = \"_\"))\n",
    "    workingarticlename <- paste(c(workingfilename[3]), collapse = \"\")\n",
    "    remove_txt <- gsub(\"\\\\.txt\", \"\", workingarticlename)\n",
    "    clean_name <- gsub(\"\\\\.\", \" \", remove_txt)\n",
    "    titles[i] <- clean_name\n",
    "}"
   ]
  },
  {
   "cell_type": "code",
   "execution_count": 5,
   "id": "228bec67-eebd-495c-8ba1-5dd7a6f955f0",
   "metadata": {},
   "outputs": [],
   "source": [
    "#Code Cell 3\n",
    "articles <- character()\n",
    "for(i in 1:length(filenames)){ \n",
    "    text_v <- scan(paste(data_folder, filenames[i], sep = \"\"), what = \"character\", sep = \"\\n\")\n",
    "    body_start <- grep(\"@BODY=\", text_v)\n",
    "    if (length(body_start) > 0) {\n",
    "      article_v <- paste(text_v[(body_start + 1):length(text_v)], collapse = \" \")\n",
    "      articles[i] <- article_v  \n",
    "    } else {\n",
    "      articles[i] <- NA\n",
    "    }\n",
    "}"
   ]
  },
  {
   "cell_type": "code",
   "execution_count": 6,
   "id": "6049143f-7805-4abe-adc7-7c4eb4b634eb",
   "metadata": {},
   "outputs": [],
   "source": [
    "#Code Cell 4\n",
    "persons <- Maxent_Entity_Annotator(kind = 'person')\n",
    "locations <- Maxent_Entity_Annotator(kind = 'location')\n",
    "organizations <- Maxent_Entity_Annotator(kind = 'organization')\n",
    "sent.token.annotator <- Maxent_Sent_Token_Annotator(language = \"en\")\n",
    "word.token.annotator <- Maxent_Word_Token_Annotator(language = \"en\")\n",
    "pos.tag.annotator <- Maxent_POS_Tag_Annotator(language = \"en\")"
   ]
  },
  {
   "cell_type": "code",
   "execution_count": 7,
   "id": "f33aab3a-e30f-4163-ac1d-70788a5f19b3",
   "metadata": {},
   "outputs": [
    {
     "name": "stdout",
     "output_type": "stream",
     "text": [
      "Time difference of 21.49891 secs\n"
     ]
    }
   ],
   "source": [
    "#Code Cell 5\n",
    "t1 <- Sys.time() # get start time - from topic modeling code\n",
    "annotated_articles <- list()\n",
    "for(i in 1:length(articles)){\n",
    "    annotations <- annotate(articles[i], list(sent.token.annotator,word.token.annotator,\n",
    "                             pos.tag.annotator, persons,locations,organizations))\n",
    "    ann.df <- as.data.frame(annotations)\n",
    "    ann.df$features <- unlist(as.character(ann.df$features))\n",
    "    ann.chars<-NULL\n",
    "    for (r in 1:nrow(ann.df)){\n",
    "        ann.chars[r]<- substr(articles[i],ann.df[r,3],ann.df[r,4])\n",
    "    }\n",
    "    ann.df$words<-ann.chars\n",
    "    ann.df$article <- titles[i]\n",
    "    annotated_articles[[i]] <- ann.df\n",
    "}\n",
    "annotated_articles_df <- do.call(rbind, annotated_articles) # rbind binds as rows\n",
    "t2 <- Sys.time()\n",
    "print(t2 - t1)"
   ]
  },
  {
   "cell_type": "code",
   "execution_count": 8,
   "id": "a107509e-8e57-4cd9-8bb4-d6abb8f59aad",
   "metadata": {},
   "outputs": [
    {
     "data": {
      "text/html": [
       "<style>\n",
       ".list-inline {list-style: none; margin:0; padding: 0}\n",
       ".list-inline>li {display: inline-block}\n",
       ".list-inline>li:not(:last-child)::after {content: \"\\00b7\"; padding: 0 .5ex}\n",
       "</style>\n",
       "<ol class=list-inline><li>52298</li><li>7</li></ol>\n"
      ],
      "text/latex": [
       "\\begin{enumerate*}\n",
       "\\item 52298\n",
       "\\item 7\n",
       "\\end{enumerate*}\n"
      ],
      "text/markdown": [
       "1. 52298\n",
       "2. 7\n",
       "\n",
       "\n"
      ],
      "text/plain": [
       "[1] 52298     7"
      ]
     },
     "metadata": {},
     "output_type": "display_data"
    },
    {
     "data": {
      "text/html": [
       "<table class=\"dataframe\">\n",
       "<caption>A data.frame: 6 × 7</caption>\n",
       "<thead>\n",
       "\t<tr><th></th><th scope=col>id</th><th scope=col>type</th><th scope=col>start</th><th scope=col>end</th><th scope=col>features</th><th scope=col>words</th><th scope=col>article</th></tr>\n",
       "\t<tr><th></th><th scope=col>&lt;int&gt;</th><th scope=col>&lt;chr&gt;</th><th scope=col>&lt;int&gt;</th><th scope=col>&lt;int&gt;</th><th scope=col>&lt;chr&gt;</th><th scope=col>&lt;chr&gt;</th><th scope=col>&lt;chr&gt;</th></tr>\n",
       "</thead>\n",
       "<tbody>\n",
       "\t<tr><th scope=row>1</th><td>1</td><td>sentence</td><td>  1</td><td>194</td><td>list(constituents = 48:83)  </td><td>Dulles wanted to make clear that the C.i.A. being a part of the United States government was a tool for the development of policy and not that of subversion against enemies of the United States.                                               </td><td>DULLES REVIEWS CIA HISTORY OUTLINES US INTELLIGENCE NET SAYS BARGHON INCIDENT TYPICAL OF RUSSIAN MISUNDERSTANDING</td></tr>\n",
       "\t<tr><th scope=row>2</th><td>2</td><td>sentence</td><td>197</td><td>369</td><td>list(constituents = 84:119) </td><td>CIA From OSS In trying to show why the Central Intelligence Agency was founded, Dulles felt it necessary to go back to the days of World War II, and the founding of the OSS.                                                                    </td><td>DULLES REVIEWS CIA HISTORY OUTLINES US INTELLIGENCE NET SAYS BARGHON INCIDENT TYPICAL OF RUSSIAN MISUNDERSTANDING</td></tr>\n",
       "\t<tr><th scope=row>3</th><td>3</td><td>sentence</td><td>371</td><td>512</td><td>list(constituents = 120:144)</td><td>At first the Government wanted to stop intelligence work after the war, but three major reasons made high official decide against this action.                                                                                                   </td><td>DULLES REVIEWS CIA HISTORY OUTLINES US INTELLIGENCE NET SAYS BARGHON INCIDENT TYPICAL OF RUSSIAN MISUNDERSTANDING</td></tr>\n",
       "\t<tr><th scope=row>4</th><td>4</td><td>sentence</td><td>515</td><td>573</td><td>list(constituents = 145:155)</td><td>The first was the surprise Japanese attack on Pearl Harbor.                                                                                                                                                                                      </td><td>DULLES REVIEWS CIA HISTORY OUTLINES US INTELLIGENCE NET SAYS BARGHON INCIDENT TYPICAL OF RUSSIAN MISUNDERSTANDING</td></tr>\n",
       "\t<tr><th scope=row>5</th><td>5</td><td>sentence</td><td>575</td><td>815</td><td>list(constituents = 156:195)</td><td>Dulles made it clear that the main reason fro the surprise element was not that the United States did not have information about Japanese intentions, but that the information available was not coordinated and submitted to proper authorities.</td><td>DULLES REVIEWS CIA HISTORY OUTLINES US INTELLIGENCE NET SAYS BARGHON INCIDENT TYPICAL OF RUSSIAN MISUNDERSTANDING</td></tr>\n",
       "\t<tr><th scope=row>6</th><td>6</td><td>sentence</td><td>817</td><td>980</td><td>list(constituents = 196:225)</td><td>The Army, Navy and the F.B.I. did have a lot of information on the forthcoming Japanese attack, but unfortunately, this information never went beyond these sources.                                                                             </td><td>DULLES REVIEWS CIA HISTORY OUTLINES US INTELLIGENCE NET SAYS BARGHON INCIDENT TYPICAL OF RUSSIAN MISUNDERSTANDING</td></tr>\n",
       "</tbody>\n",
       "</table>\n"
      ],
      "text/latex": [
       "A data.frame: 6 × 7\n",
       "\\begin{tabular}{r|lllllll}\n",
       "  & id & type & start & end & features & words & article\\\\\n",
       "  & <int> & <chr> & <int> & <int> & <chr> & <chr> & <chr>\\\\\n",
       "\\hline\n",
       "\t1 & 1 & sentence &   1 & 194 & list(constituents = 48:83)   & Dulles wanted to make clear that the C.i.A. being a part of the United States government was a tool for the development of policy and not that of subversion against enemies of the United States.                                                & DULLES REVIEWS CIA HISTORY OUTLINES US INTELLIGENCE NET SAYS BARGHON INCIDENT TYPICAL OF RUSSIAN MISUNDERSTANDING\\\\\n",
       "\t2 & 2 & sentence & 197 & 369 & list(constituents = 84:119)  & CIA From OSS In trying to show why the Central Intelligence Agency was founded, Dulles felt it necessary to go back to the days of World War II, and the founding of the OSS.                                                                     & DULLES REVIEWS CIA HISTORY OUTLINES US INTELLIGENCE NET SAYS BARGHON INCIDENT TYPICAL OF RUSSIAN MISUNDERSTANDING\\\\\n",
       "\t3 & 3 & sentence & 371 & 512 & list(constituents = 120:144) & At first the Government wanted to stop intelligence work after the war, but three major reasons made high official decide against this action.                                                                                                    & DULLES REVIEWS CIA HISTORY OUTLINES US INTELLIGENCE NET SAYS BARGHON INCIDENT TYPICAL OF RUSSIAN MISUNDERSTANDING\\\\\n",
       "\t4 & 4 & sentence & 515 & 573 & list(constituents = 145:155) & The first was the surprise Japanese attack on Pearl Harbor.                                                                                                                                                                                       & DULLES REVIEWS CIA HISTORY OUTLINES US INTELLIGENCE NET SAYS BARGHON INCIDENT TYPICAL OF RUSSIAN MISUNDERSTANDING\\\\\n",
       "\t5 & 5 & sentence & 575 & 815 & list(constituents = 156:195) & Dulles made it clear that the main reason fro the surprise element was not that the United States did not have information about Japanese intentions, but that the information available was not coordinated and submitted to proper authorities. & DULLES REVIEWS CIA HISTORY OUTLINES US INTELLIGENCE NET SAYS BARGHON INCIDENT TYPICAL OF RUSSIAN MISUNDERSTANDING\\\\\n",
       "\t6 & 6 & sentence & 817 & 980 & list(constituents = 196:225) & The Army, Navy and the F.B.I. did have a lot of information on the forthcoming Japanese attack, but unfortunately, this information never went beyond these sources.                                                                              & DULLES REVIEWS CIA HISTORY OUTLINES US INTELLIGENCE NET SAYS BARGHON INCIDENT TYPICAL OF RUSSIAN MISUNDERSTANDING\\\\\n",
       "\\end{tabular}\n"
      ],
      "text/markdown": [
       "\n",
       "A data.frame: 6 × 7\n",
       "\n",
       "| <!--/--> | id &lt;int&gt; | type &lt;chr&gt; | start &lt;int&gt; | end &lt;int&gt; | features &lt;chr&gt; | words &lt;chr&gt; | article &lt;chr&gt; |\n",
       "|---|---|---|---|---|---|---|---|\n",
       "| 1 | 1 | sentence |   1 | 194 | list(constituents = 48:83)   | Dulles wanted to make clear that the C.i.A. being a part of the United States government was a tool for the development of policy and not that of subversion against enemies of the United States.                                                | DULLES REVIEWS CIA HISTORY OUTLINES US INTELLIGENCE NET SAYS BARGHON INCIDENT TYPICAL OF RUSSIAN MISUNDERSTANDING |\n",
       "| 2 | 2 | sentence | 197 | 369 | list(constituents = 84:119)  | CIA From OSS In trying to show why the Central Intelligence Agency was founded, Dulles felt it necessary to go back to the days of World War II, and the founding of the OSS.                                                                     | DULLES REVIEWS CIA HISTORY OUTLINES US INTELLIGENCE NET SAYS BARGHON INCIDENT TYPICAL OF RUSSIAN MISUNDERSTANDING |\n",
       "| 3 | 3 | sentence | 371 | 512 | list(constituents = 120:144) | At first the Government wanted to stop intelligence work after the war, but three major reasons made high official decide against this action.                                                                                                    | DULLES REVIEWS CIA HISTORY OUTLINES US INTELLIGENCE NET SAYS BARGHON INCIDENT TYPICAL OF RUSSIAN MISUNDERSTANDING |\n",
       "| 4 | 4 | sentence | 515 | 573 | list(constituents = 145:155) | The first was the surprise Japanese attack on Pearl Harbor.                                                                                                                                                                                       | DULLES REVIEWS CIA HISTORY OUTLINES US INTELLIGENCE NET SAYS BARGHON INCIDENT TYPICAL OF RUSSIAN MISUNDERSTANDING |\n",
       "| 5 | 5 | sentence | 575 | 815 | list(constituents = 156:195) | Dulles made it clear that the main reason fro the surprise element was not that the United States did not have information about Japanese intentions, but that the information available was not coordinated and submitted to proper authorities. | DULLES REVIEWS CIA HISTORY OUTLINES US INTELLIGENCE NET SAYS BARGHON INCIDENT TYPICAL OF RUSSIAN MISUNDERSTANDING |\n",
       "| 6 | 6 | sentence | 817 | 980 | list(constituents = 196:225) | The Army, Navy and the F.B.I. did have a lot of information on the forthcoming Japanese attack, but unfortunately, this information never went beyond these sources.                                                                              | DULLES REVIEWS CIA HISTORY OUTLINES US INTELLIGENCE NET SAYS BARGHON INCIDENT TYPICAL OF RUSSIAN MISUNDERSTANDING |\n",
       "\n"
      ],
      "text/plain": [
       "  id type     start end features                    \n",
       "1 1  sentence   1   194 list(constituents = 48:83)  \n",
       "2 2  sentence 197   369 list(constituents = 84:119) \n",
       "3 3  sentence 371   512 list(constituents = 120:144)\n",
       "4 4  sentence 515   573 list(constituents = 145:155)\n",
       "5 5  sentence 575   815 list(constituents = 156:195)\n",
       "6 6  sentence 817   980 list(constituents = 196:225)\n",
       "  words                                                                                                                                                                                                                                            \n",
       "1 Dulles wanted to make clear that the C.i.A. being a part of the United States government was a tool for the development of policy and not that of subversion against enemies of the United States.                                               \n",
       "2 CIA From OSS In trying to show why the Central Intelligence Agency was founded, Dulles felt it necessary to go back to the days of World War II, and the founding of the OSS.                                                                    \n",
       "3 At first the Government wanted to stop intelligence work after the war, but three major reasons made high official decide against this action.                                                                                                   \n",
       "4 The first was the surprise Japanese attack on Pearl Harbor.                                                                                                                                                                                      \n",
       "5 Dulles made it clear that the main reason fro the surprise element was not that the United States did not have information about Japanese intentions, but that the information available was not coordinated and submitted to proper authorities.\n",
       "6 The Army, Navy and the F.B.I. did have a lot of information on the forthcoming Japanese attack, but unfortunately, this information never went beyond these sources.                                                                             \n",
       "  article                                                                                                          \n",
       "1 DULLES REVIEWS CIA HISTORY OUTLINES US INTELLIGENCE NET SAYS BARGHON INCIDENT TYPICAL OF RUSSIAN MISUNDERSTANDING\n",
       "2 DULLES REVIEWS CIA HISTORY OUTLINES US INTELLIGENCE NET SAYS BARGHON INCIDENT TYPICAL OF RUSSIAN MISUNDERSTANDING\n",
       "3 DULLES REVIEWS CIA HISTORY OUTLINES US INTELLIGENCE NET SAYS BARGHON INCIDENT TYPICAL OF RUSSIAN MISUNDERSTANDING\n",
       "4 DULLES REVIEWS CIA HISTORY OUTLINES US INTELLIGENCE NET SAYS BARGHON INCIDENT TYPICAL OF RUSSIAN MISUNDERSTANDING\n",
       "5 DULLES REVIEWS CIA HISTORY OUTLINES US INTELLIGENCE NET SAYS BARGHON INCIDENT TYPICAL OF RUSSIAN MISUNDERSTANDING\n",
       "6 DULLES REVIEWS CIA HISTORY OUTLINES US INTELLIGENCE NET SAYS BARGHON INCIDENT TYPICAL OF RUSSIAN MISUNDERSTANDING"
      ]
     },
     "metadata": {},
     "output_type": "display_data"
    }
   ],
   "source": [
    "#Code Cell 6\n",
    "dim(annotated_articles_df)\n",
    "head(annotated_articles_df)\n",
    "\n",
    "# type = words (get them)\n",
    "# after, filter features to just be eitehr adjective/adverb\n",
    "# remove dupes unique(df$words)"
   ]
  },
  {
   "cell_type": "code",
   "execution_count": 9,
   "id": "4fd2beb9-8b8e-4353-8310-8663b81968b0",
   "metadata": {},
   "outputs": [
    {
     "data": {
      "text/html": [
       "7620"
      ],
      "text/latex": [
       "7620"
      ],
      "text/markdown": [
       "7620"
      ],
      "text/plain": [
       "[1] 7620"
      ]
     },
     "metadata": {},
     "output_type": "display_data"
    },
    {
     "data": {
      "text/html": [
       "<style>\n",
       ".list-inline {list-style: none; margin:0; padding: 0}\n",
       ".list-inline>li {display: inline-block}\n",
       ".list-inline>li:not(:last-child)::after {content: \"\\00b7\"; padding: 0 .5ex}\n",
       "</style>\n",
       "<ol class=list-inline><li>'Dulles'</li><li>'wanted'</li><li>'to'</li><li>'make'</li><li>'clear'</li><li>'that'</li></ol>\n"
      ],
      "text/latex": [
       "\\begin{enumerate*}\n",
       "\\item 'Dulles'\n",
       "\\item 'wanted'\n",
       "\\item 'to'\n",
       "\\item 'make'\n",
       "\\item 'clear'\n",
       "\\item 'that'\n",
       "\\end{enumerate*}\n"
      ],
      "text/markdown": [
       "1. 'Dulles'\n",
       "2. 'wanted'\n",
       "3. 'to'\n",
       "4. 'make'\n",
       "5. 'clear'\n",
       "6. 'that'\n",
       "\n",
       "\n"
      ],
      "text/plain": [
       "[1] \"Dulles\" \"wanted\" \"to\"     \"make\"   \"clear\"  \"that\"  "
      ]
     },
     "metadata": {},
     "output_type": "display_data"
    }
   ],
   "source": [
    "#Code Cell 7\n",
    "#Subset for just words - create vector of words\n",
    "index <- which(annotated_articles_df$type == \"word\")\n",
    "article_words <- unique(annotated_articles_df$words[index])\n",
    "length(article_words)\n",
    "head(article_words)\n",
    "\n",
    "#Subset for just words - create a dataframe of words & POS\n",
    "word_df <- annotated_articles_df[index, ]"
   ]
  },
  {
   "cell_type": "code",
   "execution_count": 10,
   "id": "9ed9c062-c372-422d-b1ed-15623f5bce47",
   "metadata": {},
   "outputs": [
    {
     "data": {
      "text/html": [
       "4218"
      ],
      "text/latex": [
       "4218"
      ],
      "text/markdown": [
       "4218"
      ],
      "text/plain": [
       "[1] 4218"
      ]
     },
     "metadata": {},
     "output_type": "display_data"
    },
    {
     "data": {
      "text/html": [
       "<style>\n",
       ".list-inline {list-style: none; margin:0; padding: 0}\n",
       ".list-inline>li {display: inline-block}\n",
       ".list-inline>li:not(:last-child)::after {content: \"\\00b7\"; padding: 0 .5ex}\n",
       "</style>\n",
       "<ol class=list-inline><li>'Dulles'</li><li>'C.i.A.'</li><li>'part'</li><li>'United'</li><li>'States'</li><li>'government'</li></ol>\n"
      ],
      "text/latex": [
       "\\begin{enumerate*}\n",
       "\\item 'Dulles'\n",
       "\\item 'C.i.A.'\n",
       "\\item 'part'\n",
       "\\item 'United'\n",
       "\\item 'States'\n",
       "\\item 'government'\n",
       "\\end{enumerate*}\n"
      ],
      "text/markdown": [
       "1. 'Dulles'\n",
       "2. 'C.i.A.'\n",
       "3. 'part'\n",
       "4. 'United'\n",
       "5. 'States'\n",
       "6. 'government'\n",
       "\n",
       "\n"
      ],
      "text/plain": [
       "[1] \"Dulles\"     \"C.i.A.\"     \"part\"       \"United\"     \"States\"    \n",
       "[6] \"government\""
      ]
     },
     "metadata": {},
     "output_type": "display_data"
    }
   ],
   "source": [
    "#Code Cell 8\n",
    "#Reduce articles to just NOUNS\n",
    "#Find NN in word_df\n",
    "index <- grep(\"NN\", word_df$features)\n",
    "noun_df <- word_df[index, ]\n",
    "nouns <- unique(noun_df$words)\n",
    "length(nouns)\n",
    "head(nouns)"
   ]
  },
  {
   "cell_type": "markdown",
   "id": "b78905f4-cf0a-47f4-b83b-5d5bd149a00f",
   "metadata": {},
   "source": [
    "## 2. Create a document-term-matrix that only has nouns"
   ]
  },
  {
   "cell_type": "code",
   "execution_count": 11,
   "id": "daa84848-c54a-4693-bd4a-1e95a5412384",
   "metadata": {},
   "outputs": [
    {
     "name": "stderr",
     "output_type": "stream",
     "text": [
      "Warning message in dcast(corpus_data, ID ~ words, fill = 0):\n",
      "“The dcast generic in data.table has been passed a data.frame and will attempt to redirect to the reshape2::dcast; please note that reshape2 is deprecated, and this redirection is now deprecated as well. Please do this redirection yourself like reshape2::dcast(corpus_data). In the next version, this warning will become an error.”\n",
      "Using 'Freq' as value column. Use 'value.var' to override\n",
      "\n",
      "Aggregation function missing: defaulting to length\n",
      "\n"
     ]
    },
    {
     "data": {
      "text/html": [
       "'data.frame'"
      ],
      "text/latex": [
       "'data.frame'"
      ],
      "text/markdown": [
       "'data.frame'"
      ],
      "text/plain": [
       "[1] \"data.frame\""
      ]
     },
     "metadata": {},
     "output_type": "display_data"
    },
    {
     "data": {
      "text/html": [
       "<style>\n",
       ".list-inline {list-style: none; margin:0; padding: 0}\n",
       ".list-inline>li {display: inline-block}\n",
       ".list-inline>li:not(:last-child)::after {content: \"\\00b7\"; padding: 0 .5ex}\n",
       "</style>\n",
       "<ol class=list-inline><li>75</li><li>6458</li></ol>\n"
      ],
      "text/latex": [
       "\\begin{enumerate*}\n",
       "\\item 75\n",
       "\\item 6458\n",
       "\\end{enumerate*}\n"
      ],
      "text/markdown": [
       "1. 75\n",
       "2. 6458\n",
       "\n",
       "\n"
      ],
      "text/plain": [
       "[1]   75 6458"
      ]
     },
     "metadata": {},
     "output_type": "display_data"
    },
    {
     "data": {
      "text/html": [
       "<table class=\"dataframe\">\n",
       "<caption>A data.frame: 10 × 5</caption>\n",
       "<thead>\n",
       "\t<tr><th></th><th scope=col>ID</th><th scope=col>a</th><th scope=col>able</th><th scope=col>about</th><th scope=col>act</th></tr>\n",
       "\t<tr><th></th><th scope=col>&lt;chr&gt;</th><th scope=col>&lt;dbl&gt;</th><th scope=col>&lt;dbl&gt;</th><th scope=col>&lt;dbl&gt;</th><th scope=col>&lt;dbl&gt;</th></tr>\n",
       "</thead>\n",
       "<tbody>\n",
       "\t<tr><th scope=row>1</th><td>15TH ANNUAL ROTC REVIEW HONORS TWO VIETNAM WAR DEATHS                         </td><td>1</td><td>0</td><td>0</td><td>0</td></tr>\n",
       "\t<tr><th scope=row>2</th><td>A LESSON IN DIPLOMACY AMBASSADOR ROSENNE SPEAKS                               </td><td>1</td><td>1</td><td>1</td><td>0</td></tr>\n",
       "\t<tr><th scope=row>3</th><td>A LETTER FROM VIETNAM                                                         </td><td>1</td><td>0</td><td>0</td><td>0</td></tr>\n",
       "\t<tr><th scope=row>4</th><td>ADMINISTRATION ASSAILED ON PEACER FEELER REPORTS                              </td><td>1</td><td>0</td><td>1</td><td>0</td></tr>\n",
       "\t<tr><th scope=row>5</th><td>AN EARFUL OF PROPAGANDA                                                       </td><td>1</td><td>0</td><td>0</td><td>0</td></tr>\n",
       "\t<tr><th scope=row>6</th><td>ANNUAL CAMPUS CHEST WEEKEND WILL AID VIETNAMESE CHILDREN                      </td><td>1</td><td>0</td><td>0</td><td>0</td></tr>\n",
       "\t<tr><th scope=row>7</th><td>ANTI ANTIWAR PARADE A SUBJECTIVE VIEW DEMONSTRATION SEEN AS HISTORICAL PARADOX</td><td>1</td><td>0</td><td>0</td><td>0</td></tr>\n",
       "\t<tr><th scope=row>8</th><td>BOWDOIN SDS MARCHES IN NYC                                                    </td><td>1</td><td>0</td><td>0</td><td>0</td></tr>\n",
       "\t<tr><th scope=row>9</th><td>BOWDOIN SDS PLANS APRIL PROTEST WEEK                                          </td><td>1</td><td>0</td><td>0</td><td>0</td></tr>\n",
       "\t<tr><th scope=row>10</th><td>BOWDOIN SDS UNDERGOES CHANGES                                                 </td><td>1</td><td>1</td><td>1</td><td>0</td></tr>\n",
       "</tbody>\n",
       "</table>\n"
      ],
      "text/latex": [
       "A data.frame: 10 × 5\n",
       "\\begin{tabular}{r|lllll}\n",
       "  & ID & a & able & about & act\\\\\n",
       "  & <chr> & <dbl> & <dbl> & <dbl> & <dbl>\\\\\n",
       "\\hline\n",
       "\t1 & 15TH ANNUAL ROTC REVIEW HONORS TWO VIETNAM WAR DEATHS                          & 1 & 0 & 0 & 0\\\\\n",
       "\t2 & A LESSON IN DIPLOMACY AMBASSADOR ROSENNE SPEAKS                                & 1 & 1 & 1 & 0\\\\\n",
       "\t3 & A LETTER FROM VIETNAM                                                          & 1 & 0 & 0 & 0\\\\\n",
       "\t4 & ADMINISTRATION ASSAILED ON PEACER FEELER REPORTS                               & 1 & 0 & 1 & 0\\\\\n",
       "\t5 & AN EARFUL OF PROPAGANDA                                                        & 1 & 0 & 0 & 0\\\\\n",
       "\t6 & ANNUAL CAMPUS CHEST WEEKEND WILL AID VIETNAMESE CHILDREN                       & 1 & 0 & 0 & 0\\\\\n",
       "\t7 & ANTI ANTIWAR PARADE A SUBJECTIVE VIEW DEMONSTRATION SEEN AS HISTORICAL PARADOX & 1 & 0 & 0 & 0\\\\\n",
       "\t8 & BOWDOIN SDS MARCHES IN NYC                                                     & 1 & 0 & 0 & 0\\\\\n",
       "\t9 & BOWDOIN SDS PLANS APRIL PROTEST WEEK                                           & 1 & 0 & 0 & 0\\\\\n",
       "\t10 & BOWDOIN SDS UNDERGOES CHANGES                                                  & 1 & 1 & 1 & 0\\\\\n",
       "\\end{tabular}\n"
      ],
      "text/markdown": [
       "\n",
       "A data.frame: 10 × 5\n",
       "\n",
       "| <!--/--> | ID &lt;chr&gt; | a &lt;dbl&gt; | able &lt;dbl&gt; | about &lt;dbl&gt; | act &lt;dbl&gt; |\n",
       "|---|---|---|---|---|---|\n",
       "| 1 | 15TH ANNUAL ROTC REVIEW HONORS TWO VIETNAM WAR DEATHS                          | 1 | 0 | 0 | 0 |\n",
       "| 2 | A LESSON IN DIPLOMACY AMBASSADOR ROSENNE SPEAKS                                | 1 | 1 | 1 | 0 |\n",
       "| 3 | A LETTER FROM VIETNAM                                                          | 1 | 0 | 0 | 0 |\n",
       "| 4 | ADMINISTRATION ASSAILED ON PEACER FEELER REPORTS                               | 1 | 0 | 1 | 0 |\n",
       "| 5 | AN EARFUL OF PROPAGANDA                                                        | 1 | 0 | 0 | 0 |\n",
       "| 6 | ANNUAL CAMPUS CHEST WEEKEND WILL AID VIETNAMESE CHILDREN                       | 1 | 0 | 0 | 0 |\n",
       "| 7 | ANTI ANTIWAR PARADE A SUBJECTIVE VIEW DEMONSTRATION SEEN AS HISTORICAL PARADOX | 1 | 0 | 0 | 0 |\n",
       "| 8 | BOWDOIN SDS MARCHES IN NYC                                                     | 1 | 0 | 0 | 0 |\n",
       "| 9 | BOWDOIN SDS PLANS APRIL PROTEST WEEK                                           | 1 | 0 | 0 | 0 |\n",
       "| 10 | BOWDOIN SDS UNDERGOES CHANGES                                                  | 1 | 1 | 1 | 0 |\n",
       "\n"
      ],
      "text/plain": [
       "   ID                                                                            \n",
       "1  15TH ANNUAL ROTC REVIEW HONORS TWO VIETNAM WAR DEATHS                         \n",
       "2  A LESSON IN DIPLOMACY AMBASSADOR ROSENNE SPEAKS                               \n",
       "3  A LETTER FROM VIETNAM                                                         \n",
       "4  ADMINISTRATION ASSAILED ON PEACER FEELER REPORTS                              \n",
       "5  AN EARFUL OF PROPAGANDA                                                       \n",
       "6  ANNUAL CAMPUS CHEST WEEKEND WILL AID VIETNAMESE CHILDREN                      \n",
       "7  ANTI ANTIWAR PARADE A SUBJECTIVE VIEW DEMONSTRATION SEEN AS HISTORICAL PARADOX\n",
       "8  BOWDOIN SDS MARCHES IN NYC                                                    \n",
       "9  BOWDOIN SDS PLANS APRIL PROTEST WEEK                                          \n",
       "10 BOWDOIN SDS UNDERGOES CHANGES                                                 \n",
       "   a able about act\n",
       "1  1 0    0     0  \n",
       "2  1 1    1     0  \n",
       "3  1 0    0     0  \n",
       "4  1 0    1     0  \n",
       "5  1 0    0     0  \n",
       "6  1 0    0     0  \n",
       "7  1 0    0     0  \n",
       "8  1 0    0     0  \n",
       "9  1 0    0     0  \n",
       "10 1 1    1     0  "
      ]
     },
     "metadata": {},
     "output_type": "display_data"
    }
   ],
   "source": [
    "# Code Cell 9\n",
    "# Code Cell 2a from Stylometry\n",
    "numbers <- \"no\"\n",
    "periods <- \"yes\"\n",
    "commas <- \"yes\"\n",
    "question_marks <- \"yes\"\n",
    "exclamation_marks <- \"yes\"#Code Cell 9\n",
    "\n",
    "#Code Cell 4 from Stylometry\n",
    "docs <- as.character()\n",
    "for (i in 1:length(filenames)){\n",
    "    text <- scan(paste(data_folder, filenames[i], sep = \"/\"), what = \"\\n\", quote = \"\")\n",
    "    docs[i] <- paste(text, collapse = \" \")\n",
    "}\n",
    "docs <- gsub(\"[[:cntrl:]]\", \" \", docs)  # replace control characters with space\n",
    "if(numbers == \"no\"){\n",
    "    docs <- gsub(\"[[:digit:]]\", \"\", docs) # remove numbers - replaces with blank\n",
    "}\n",
    "if(periods == \"yes\"){\n",
    "    docs <- gsub(\"\\\\.\", \" prd \", docs) # replace period marks with \"prd\"\n",
    "}\n",
    "if(commas == \"yes\"){\n",
    "    docs <- docs <- gsub(\"\\\\,\", \" cma \", docs) # replace commas with \"cma\"\n",
    "}\n",
    "if(question_marks == \"yes\"){\n",
    "    docs <- gsub(\"\\\\?\", \" qst \", docs) # replace question marks with \"qst\"\n",
    "}\n",
    "if(exclamation_marks == \"yes\"){\n",
    "    docs <- gsub(\"\\\\!\", \" exclm \", docs) # you see the pattern, right?\n",
    "}\n",
    "\n",
    "docs <- tolower(docs)\n",
    "\n",
    "# Code Cell 5 from Stylometry\n",
    "all_corpus_data <- list()\n",
    "\n",
    "for (i in 1:length(docs)){\n",
    "  split_all_text <- unlist(strsplit(docs[i], \"\\\\W\")) \n",
    "  clean_words = split_all_text[which(split_all_text != \"\")]\n",
    "  #word_df <- as.data.frame(table(clean_words))\n",
    "  word_df <- as.data.frame(100*table(clean_words)/length(clean_words))\n",
    "  file_word_freq <- cbind(ID=titles[i], word_df)\n",
    "  all_corpus_data[[i]] <- file_word_freq\n",
    "}\n",
    "corpus_data <- do.call(rbind, all_corpus_data)\n",
    "colnames(corpus_data) = c(\"ID\", \"words\", \"Freq\")\n",
    "\n",
    "#Code Cell 6 from Stylometry\n",
    "final_df <- dcast(corpus_data, ID~words, fill = 0)\n",
    "class(final_df)\n",
    "dim(final_df)\n",
    "final_df[1:10,1:5]"
   ]
  },
  {
   "cell_type": "code",
   "execution_count": 12,
   "id": "f18233ac-1c83-4006-9df9-293146a9c09a",
   "metadata": {},
   "outputs": [
    {
     "data": {
      "text/html": [
       "<style>\n",
       ".list-inline {list-style: none; margin:0; padding: 0}\n",
       ".list-inline>li {display: inline-block}\n",
       ".list-inline>li:not(:last-child)::after {content: \"\\00b7\"; padding: 0 .5ex}\n",
       "</style>\n",
       "<ol class=list-inline><li>75</li><li>3572</li></ol>\n"
      ],
      "text/latex": [
       "\\begin{enumerate*}\n",
       "\\item 75\n",
       "\\item 3572\n",
       "\\end{enumerate*}\n"
      ],
      "text/markdown": [
       "1. 75\n",
       "2. 3572\n",
       "\n",
       "\n"
      ],
      "text/plain": [
       "[1]   75 3572"
      ]
     },
     "metadata": {},
     "output_type": "display_data"
    }
   ],
   "source": [
    "#Code Cell 10 - Step 2:\n",
    "#Subset by columns that match a vector of the nouns \n",
    "#Modified from Stylometry Code Cell 7\n",
    "keepers <- tolower(nouns) # this line is the modification\n",
    "cluster_data <- final_df[, which(colnames(final_df) %in% keepers)]\n",
    "dim(cluster_data)"
   ]
  },
  {
   "cell_type": "code",
   "execution_count": 13,
   "id": "aab39dc2-8453-4b30-83af-a473f294baf7",
   "metadata": {},
   "outputs": [],
   "source": [
    "cluster_data$ID <- final_df$ID"
   ]
  },
  {
   "cell_type": "code",
   "execution_count": 14,
   "id": "f5c6522d-7108-4337-a65a-06e302eb1365",
   "metadata": {},
   "outputs": [
    {
     "data": {
      "text/html": [
       "<table class=\"dataframe\">\n",
       "<caption>A data.frame: 6 × 3573</caption>\n",
       "<thead>\n",
       "\t<tr><th></th><th scope=col>a</th><th scope=col>act</th><th scope=col>action</th><th scope=col>advisor</th><th scope=col>agencies</th><th scope=col>agency</th><th scope=col>air</th><th scope=col>all</th><th scope=col>allen</th><th scope=col>american</th><th scope=col>⋯</th><th scope=col>playoffs</th><th scope=col>rumors</th><th scope=col>stretcher</th><th scope=col>sunshine</th><th scope=col>surrenders</th><th scope=col>sweater</th><th scope=col>traps</th><th scope=col>uniform</th><th scope=col>winner</th><th scope=col>ID</th></tr>\n",
       "\t<tr><th></th><th scope=col>&lt;dbl&gt;</th><th scope=col>&lt;dbl&gt;</th><th scope=col>&lt;dbl&gt;</th><th scope=col>&lt;dbl&gt;</th><th scope=col>&lt;dbl&gt;</th><th scope=col>&lt;dbl&gt;</th><th scope=col>&lt;dbl&gt;</th><th scope=col>&lt;dbl&gt;</th><th scope=col>&lt;dbl&gt;</th><th scope=col>&lt;dbl&gt;</th><th scope=col>⋯</th><th scope=col>&lt;dbl&gt;</th><th scope=col>&lt;dbl&gt;</th><th scope=col>&lt;dbl&gt;</th><th scope=col>&lt;dbl&gt;</th><th scope=col>&lt;dbl&gt;</th><th scope=col>&lt;dbl&gt;</th><th scope=col>&lt;dbl&gt;</th><th scope=col>&lt;dbl&gt;</th><th scope=col>&lt;dbl&gt;</th><th scope=col>&lt;chr&gt;</th></tr>\n",
       "</thead>\n",
       "<tbody>\n",
       "\t<tr><th scope=row>1</th><td>1</td><td>0</td><td>1</td><td>0</td><td>0</td><td>0</td><td>0</td><td>0</td><td>0</td><td>1</td><td>⋯</td><td>0</td><td>0</td><td>0</td><td>0</td><td>0</td><td>0</td><td>0</td><td>0</td><td>0</td><td>15TH ANNUAL ROTC REVIEW HONORS TWO VIETNAM WAR DEATHS   </td></tr>\n",
       "\t<tr><th scope=row>2</th><td>1</td><td>0</td><td>0</td><td>0</td><td>0</td><td>0</td><td>0</td><td>1</td><td>0</td><td>1</td><td>⋯</td><td>0</td><td>0</td><td>0</td><td>0</td><td>0</td><td>0</td><td>0</td><td>0</td><td>0</td><td>A LESSON IN DIPLOMACY AMBASSADOR ROSENNE SPEAKS         </td></tr>\n",
       "\t<tr><th scope=row>3</th><td>1</td><td>0</td><td>0</td><td>0</td><td>0</td><td>0</td><td>0</td><td>1</td><td>0</td><td>0</td><td>⋯</td><td>0</td><td>0</td><td>0</td><td>0</td><td>0</td><td>0</td><td>0</td><td>0</td><td>0</td><td>A LETTER FROM VIETNAM                                   </td></tr>\n",
       "\t<tr><th scope=row>4</th><td>1</td><td>0</td><td>0</td><td>0</td><td>0</td><td>0</td><td>0</td><td>0</td><td>0</td><td>1</td><td>⋯</td><td>0</td><td>0</td><td>0</td><td>0</td><td>0</td><td>0</td><td>0</td><td>0</td><td>0</td><td>ADMINISTRATION ASSAILED ON PEACER FEELER REPORTS        </td></tr>\n",
       "\t<tr><th scope=row>5</th><td>1</td><td>0</td><td>0</td><td>0</td><td>0</td><td>0</td><td>0</td><td>0</td><td>0</td><td>1</td><td>⋯</td><td>0</td><td>0</td><td>0</td><td>0</td><td>0</td><td>0</td><td>0</td><td>0</td><td>0</td><td>AN EARFUL OF PROPAGANDA                                 </td></tr>\n",
       "\t<tr><th scope=row>6</th><td>1</td><td>0</td><td>0</td><td>0</td><td>0</td><td>0</td><td>0</td><td>0</td><td>0</td><td>1</td><td>⋯</td><td>0</td><td>0</td><td>0</td><td>0</td><td>0</td><td>0</td><td>0</td><td>0</td><td>0</td><td>ANNUAL CAMPUS CHEST WEEKEND WILL AID VIETNAMESE CHILDREN</td></tr>\n",
       "</tbody>\n",
       "</table>\n"
      ],
      "text/latex": [
       "A data.frame: 6 × 3573\n",
       "\\begin{tabular}{r|lllllllllllllllllllll}\n",
       "  & a & act & action & advisor & agencies & agency & air & all & allen & american & ⋯ & playoffs & rumors & stretcher & sunshine & surrenders & sweater & traps & uniform & winner & ID\\\\\n",
       "  & <dbl> & <dbl> & <dbl> & <dbl> & <dbl> & <dbl> & <dbl> & <dbl> & <dbl> & <dbl> & ⋯ & <dbl> & <dbl> & <dbl> & <dbl> & <dbl> & <dbl> & <dbl> & <dbl> & <dbl> & <chr>\\\\\n",
       "\\hline\n",
       "\t1 & 1 & 0 & 1 & 0 & 0 & 0 & 0 & 0 & 0 & 1 & ⋯ & 0 & 0 & 0 & 0 & 0 & 0 & 0 & 0 & 0 & 15TH ANNUAL ROTC REVIEW HONORS TWO VIETNAM WAR DEATHS   \\\\\n",
       "\t2 & 1 & 0 & 0 & 0 & 0 & 0 & 0 & 1 & 0 & 1 & ⋯ & 0 & 0 & 0 & 0 & 0 & 0 & 0 & 0 & 0 & A LESSON IN DIPLOMACY AMBASSADOR ROSENNE SPEAKS         \\\\\n",
       "\t3 & 1 & 0 & 0 & 0 & 0 & 0 & 0 & 1 & 0 & 0 & ⋯ & 0 & 0 & 0 & 0 & 0 & 0 & 0 & 0 & 0 & A LETTER FROM VIETNAM                                   \\\\\n",
       "\t4 & 1 & 0 & 0 & 0 & 0 & 0 & 0 & 0 & 0 & 1 & ⋯ & 0 & 0 & 0 & 0 & 0 & 0 & 0 & 0 & 0 & ADMINISTRATION ASSAILED ON PEACER FEELER REPORTS        \\\\\n",
       "\t5 & 1 & 0 & 0 & 0 & 0 & 0 & 0 & 0 & 0 & 1 & ⋯ & 0 & 0 & 0 & 0 & 0 & 0 & 0 & 0 & 0 & AN EARFUL OF PROPAGANDA                                 \\\\\n",
       "\t6 & 1 & 0 & 0 & 0 & 0 & 0 & 0 & 0 & 0 & 1 & ⋯ & 0 & 0 & 0 & 0 & 0 & 0 & 0 & 0 & 0 & ANNUAL CAMPUS CHEST WEEKEND WILL AID VIETNAMESE CHILDREN\\\\\n",
       "\\end{tabular}\n"
      ],
      "text/markdown": [
       "\n",
       "A data.frame: 6 × 3573\n",
       "\n",
       "| <!--/--> | a &lt;dbl&gt; | act &lt;dbl&gt; | action &lt;dbl&gt; | advisor &lt;dbl&gt; | agencies &lt;dbl&gt; | agency &lt;dbl&gt; | air &lt;dbl&gt; | all &lt;dbl&gt; | allen &lt;dbl&gt; | american &lt;dbl&gt; | ⋯ ⋯ | playoffs &lt;dbl&gt; | rumors &lt;dbl&gt; | stretcher &lt;dbl&gt; | sunshine &lt;dbl&gt; | surrenders &lt;dbl&gt; | sweater &lt;dbl&gt; | traps &lt;dbl&gt; | uniform &lt;dbl&gt; | winner &lt;dbl&gt; | ID &lt;chr&gt; |\n",
       "|---|---|---|---|---|---|---|---|---|---|---|---|---|---|---|---|---|---|---|---|---|---|\n",
       "| 1 | 1 | 0 | 1 | 0 | 0 | 0 | 0 | 0 | 0 | 1 | ⋯ | 0 | 0 | 0 | 0 | 0 | 0 | 0 | 0 | 0 | 15TH ANNUAL ROTC REVIEW HONORS TWO VIETNAM WAR DEATHS    |\n",
       "| 2 | 1 | 0 | 0 | 0 | 0 | 0 | 0 | 1 | 0 | 1 | ⋯ | 0 | 0 | 0 | 0 | 0 | 0 | 0 | 0 | 0 | A LESSON IN DIPLOMACY AMBASSADOR ROSENNE SPEAKS          |\n",
       "| 3 | 1 | 0 | 0 | 0 | 0 | 0 | 0 | 1 | 0 | 0 | ⋯ | 0 | 0 | 0 | 0 | 0 | 0 | 0 | 0 | 0 | A LETTER FROM VIETNAM                                    |\n",
       "| 4 | 1 | 0 | 0 | 0 | 0 | 0 | 0 | 0 | 0 | 1 | ⋯ | 0 | 0 | 0 | 0 | 0 | 0 | 0 | 0 | 0 | ADMINISTRATION ASSAILED ON PEACER FEELER REPORTS         |\n",
       "| 5 | 1 | 0 | 0 | 0 | 0 | 0 | 0 | 0 | 0 | 1 | ⋯ | 0 | 0 | 0 | 0 | 0 | 0 | 0 | 0 | 0 | AN EARFUL OF PROPAGANDA                                  |\n",
       "| 6 | 1 | 0 | 0 | 0 | 0 | 0 | 0 | 0 | 0 | 1 | ⋯ | 0 | 0 | 0 | 0 | 0 | 0 | 0 | 0 | 0 | ANNUAL CAMPUS CHEST WEEKEND WILL AID VIETNAMESE CHILDREN |\n",
       "\n"
      ],
      "text/plain": [
       "  a act action advisor agencies agency air all allen american ⋯ playoffs rumors\n",
       "1 1 0   1      0       0        0      0   0   0     1        ⋯ 0        0     \n",
       "2 1 0   0      0       0        0      0   1   0     1        ⋯ 0        0     \n",
       "3 1 0   0      0       0        0      0   1   0     0        ⋯ 0        0     \n",
       "4 1 0   0      0       0        0      0   0   0     1        ⋯ 0        0     \n",
       "5 1 0   0      0       0        0      0   0   0     1        ⋯ 0        0     \n",
       "6 1 0   0      0       0        0      0   0   0     1        ⋯ 0        0     \n",
       "  stretcher sunshine surrenders sweater traps uniform winner\n",
       "1 0         0        0          0       0     0       0     \n",
       "2 0         0        0          0       0     0       0     \n",
       "3 0         0        0          0       0     0       0     \n",
       "4 0         0        0          0       0     0       0     \n",
       "5 0         0        0          0       0     0       0     \n",
       "6 0         0        0          0       0     0       0     \n",
       "  ID                                                      \n",
       "1 15TH ANNUAL ROTC REVIEW HONORS TWO VIETNAM WAR DEATHS   \n",
       "2 A LESSON IN DIPLOMACY AMBASSADOR ROSENNE SPEAKS         \n",
       "3 A LETTER FROM VIETNAM                                   \n",
       "4 ADMINISTRATION ASSAILED ON PEACER FEELER REPORTS        \n",
       "5 AN EARFUL OF PROPAGANDA                                 \n",
       "6 ANNUAL CAMPUS CHEST WEEKEND WILL AID VIETNAMESE CHILDREN"
      ]
     },
     "metadata": {},
     "output_type": "display_data"
    }
   ],
   "source": [
    "head(cluster_data)"
   ]
  },
  {
   "cell_type": "markdown",
   "id": "ad7651bb-1677-4f41-aa19-8ed3bed05867",
   "metadata": {},
   "source": [
    "## Stemming"
   ]
  },
  {
   "cell_type": "code",
   "execution_count": 15,
   "id": "217f44a9-8f0b-4064-b423-58496b11d929",
   "metadata": {},
   "outputs": [
    {
     "data": {
      "text/html": [
       "7620"
      ],
      "text/latex": [
       "7620"
      ],
      "text/markdown": [
       "7620"
      ],
      "text/plain": [
       "[1] 7620"
      ]
     },
     "metadata": {},
     "output_type": "display_data"
    },
    {
     "data": {
      "text/html": [
       "<style>\n",
       ".list-inline {list-style: none; margin:0; padding: 0}\n",
       ".list-inline>li {display: inline-block}\n",
       ".list-inline>li:not(:last-child)::after {content: \"\\00b7\"; padding: 0 .5ex}\n",
       "</style>\n",
       "<ol class=list-inline><li>'Dull'</li><li>'want'</li><li>'to'</li><li>'make'</li><li>'clear'</li><li>'that'</li></ol>\n"
      ],
      "text/latex": [
       "\\begin{enumerate*}\n",
       "\\item 'Dull'\n",
       "\\item 'want'\n",
       "\\item 'to'\n",
       "\\item 'make'\n",
       "\\item 'clear'\n",
       "\\item 'that'\n",
       "\\end{enumerate*}\n"
      ],
      "text/markdown": [
       "1. 'Dull'\n",
       "2. 'want'\n",
       "3. 'to'\n",
       "4. 'make'\n",
       "5. 'clear'\n",
       "6. 'that'\n",
       "\n",
       "\n"
      ],
      "text/plain": [
       "[1] \"Dull\"  \"want\"  \"to\"    \"make\"  \"clear\" \"that\" "
      ]
     },
     "metadata": {},
     "output_type": "display_data"
    }
   ],
   "source": [
    "# Code Cell 11\n",
    "stemmed_article_words <- stem_words(article_words)\n",
    "length(stemmed_article_words)\n",
    "head(stemmed_article_words)"
   ]
  },
  {
   "cell_type": "code",
   "execution_count": 16,
   "id": "66688012-06e1-42dd-b959-6f2c81e1a140",
   "metadata": {},
   "outputs": [
    {
     "data": {
      "text/html": [
       "'character'"
      ],
      "text/latex": [
       "'character'"
      ],
      "text/markdown": [
       "'character'"
      ],
      "text/plain": [
       "[1] \"character\""
      ]
     },
     "metadata": {},
     "output_type": "display_data"
    },
    {
     "data": {
      "text/html": [
       "79"
      ],
      "text/latex": [
       "79"
      ],
      "text/markdown": [
       "79"
      ],
      "text/plain": [
       "[1] 79"
      ]
     },
     "metadata": {},
     "output_type": "display_data"
    },
    {
     "data": {
      "text/html": [
       "'Dull want to make clear that the C. i. A. be a part of the Unite State govern wa a tool for the develop of polici and not that of subvers against enemi of the Unite State. CIA From OSS In try to show why the Central Intellig Agenci wa found, Dull felt it necessari to go back to the dai of World War II, and the found of the OSS. At first the Govern want to stop intellig work after the war, but three major reason made high offici decid against thi action. The first wa the surpris Japanes attack on Pearl Harbor. Dull made it clear that the main reason fro the surpris element wa not that the Unite State did not have inform about Japanes intent, but that the inform avail wa not coordin and submit to proper author. The Army, Navi and the F. B. I. did have a lot of inform on the forthcom Japanes attack, but unfortun, thi inform never went beyond these sourc. Thu, the defens forc of the Nation were never alert for an attack and the Presid did not know of it until after the disast. The second reason wa that the Unite State face a great deal of disillusion with the Russian at the Yalta Confer after which thei broke almost all of their promis on such thing a the occup of Berlin and the western orient countri such a Czechoslovakia, Hungari, and Poland. It wa not until 1947 and the Truman Doctrin which Dull call \" the year of the awaken a to what Commun meant. \" Dull felt that the Truman Doctrin wa not enough to stop the tide of Commun. Although the Unite State wa invit by the govern of Greec to help in the fight against the Communist guerrilla, it wa helpless to fight the communist in a countri in which it servic were not invit. Thu, by 1947 it wa obviou that there were enough intern troubl spot which affect the secur of the Unite State that the Presid had to have inform avail to him, which would help him In the develop of a firm polici in the fight against communist. Tee Difficult... Tee Spread Mr. Dull made it clear that the C. I. A. wa not the onli organ found for the protect of Unite State secur. The Nation Defens Act of 1947 set up the Nation Secur Council and the formal of the Defens Depart. Yet in order for the Unite State to be abl to protect herself beyond her shore the C. I. A. had to be set up becaus a Dull said: \" Our problem have gotten to difficult and spread out... and thu the C. I. A. would be abl to set up secur forc in Vietnam and Cuba. \" In help to formul polici Dull gave four major mode in which the C. I. A. must work. First it must work with the Army, Navi, Air Forc, FBI and other agenc coordin the flow of intellig when polici i need. ( Often, he said, thi inform can be \\' scare \\' the Presid into make an activ polici within a few hour. ) Secondli, the C. I. A. must learn to work In competit with the other intellig agenc In the govern. Dull felt that a littl competit develop of polici i good and that of cours too much of competit would lead to confus. Thirdli, the C. I. A. must work in conjunct with the State Depart on matter of inform. ( Mr. Dull also made it clear that it wa not the C. I. A. which made polici but the Presid and the State Depart. ) Fourthli, the C. I. A. ha a great deal of work in the field of counter intellig. He point out that mani spi ar caught a a result of \\' long, hard work. \\' In conjunct with thi Dull state: \" The public should not get alarm at the fact that we ar catch so mani spi. For on thing, it show that we ar on our toe and it doe diminish the present number of spi that the soviet have in oper. \" One of the reason that the soviet have so much troubl with their spi, point out Dull, i that thei just don\\'t trust them. Soviet spi can\\'t turn in inform without document to prove that thei ar tell the truth. Thu, mani spi ar caught in the difficult task of try to steal govern and defens industri document. Barghoon Case cite Mr. Dull also comment on the immedi situat. \\' Khrushchev basic doesn\\'t understand the Unite State. \\' The Barghoorn case prove it. Khrushchev wa baffl when the Unite State made such a fuss over \\' on littl incid and on person. \\' Here i a great differ between the Communist and the American wai of think - thei don\\'t care about the individu. The Cuban crisi also point out the basic misunderstand that Khrushchev ha of the U. S. He thought that we would back down, but we of cours didn\\'t. \" One of the question that Mr. Dull entertain wa whether or not the American press gave awai too much inform for the world to read. \" Ye, \" said Dull, \" The American press i great for spy. I am especi worri about the amount of inform publish on the Nation Defens spend. Everi on know exactli what the monei i be spent for. We go to so much troubl of get inform and then the press give it awai on u. \" Mr. Dull i an author on intellig procedur and polici make. A Phi Beta Kappa graduat of Princeton where he also receiv hi Master of Art in 1928, Dull start hi career a a teacher of English in India. But within a short time of thi undertak, Mr. Dull began a long career with the U. S. Foreign Servic with assign in Switzerland, Austria - Hungari ( of the old Holi Empire ), Germani, Itali and Turkei. Mr. Dull wa also a legal advisor to the American deleg at the Geneva Convent in 1927 for which work he wa given the award of Merit and Freedom. Dure World War II, Dull wa with the OSS and wa on of the founder of the hard - core American intellig system. After the War, he help to start the Central Intellig Agenci of which he becam the Director in 1953.'"
      ],
      "text/latex": [
       "'Dull want to make clear that the C. i. A. be a part of the Unite State govern wa a tool for the develop of polici and not that of subvers against enemi of the Unite State. CIA From OSS In try to show why the Central Intellig Agenci wa found, Dull felt it necessari to go back to the dai of World War II, and the found of the OSS. At first the Govern want to stop intellig work after the war, but three major reason made high offici decid against thi action. The first wa the surpris Japanes attack on Pearl Harbor. Dull made it clear that the main reason fro the surpris element wa not that the Unite State did not have inform about Japanes intent, but that the inform avail wa not coordin and submit to proper author. The Army, Navi and the F. B. I. did have a lot of inform on the forthcom Japanes attack, but unfortun, thi inform never went beyond these sourc. Thu, the defens forc of the Nation were never alert for an attack and the Presid did not know of it until after the disast. The second reason wa that the Unite State face a great deal of disillusion with the Russian at the Yalta Confer after which thei broke almost all of their promis on such thing a the occup of Berlin and the western orient countri such a Czechoslovakia, Hungari, and Poland. It wa not until 1947 and the Truman Doctrin which Dull call \" the year of the awaken a to what Commun meant. \" Dull felt that the Truman Doctrin wa not enough to stop the tide of Commun. Although the Unite State wa invit by the govern of Greec to help in the fight against the Communist guerrilla, it wa helpless to fight the communist in a countri in which it servic were not invit. Thu, by 1947 it wa obviou that there were enough intern troubl spot which affect the secur of the Unite State that the Presid had to have inform avail to him, which would help him In the develop of a firm polici in the fight against communist. Tee Difficult... Tee Spread Mr. Dull made it clear that the C. I. A. wa not the onli organ found for the protect of Unite State secur. The Nation Defens Act of 1947 set up the Nation Secur Council and the formal of the Defens Depart. Yet in order for the Unite State to be abl to protect herself beyond her shore the C. I. A. had to be set up becaus a Dull said: \" Our problem have gotten to difficult and spread out... and thu the C. I. A. would be abl to set up secur forc in Vietnam and Cuba. \" In help to formul polici Dull gave four major mode in which the C. I. A. must work. First it must work with the Army, Navi, Air Forc, FBI and other agenc coordin the flow of intellig when polici i need. ( Often, he said, thi inform can be \\textbackslash{}' scare \\textbackslash{}' the Presid into make an activ polici within a few hour. ) Secondli, the C. I. A. must learn to work In competit with the other intellig agenc In the govern. Dull felt that a littl competit develop of polici i good and that of cours too much of competit would lead to confus. Thirdli, the C. I. A. must work in conjunct with the State Depart on matter of inform. ( Mr. Dull also made it clear that it wa not the C. I. A. which made polici but the Presid and the State Depart. ) Fourthli, the C. I. A. ha a great deal of work in the field of counter intellig. He point out that mani spi ar caught a a result of \\textbackslash{}' long, hard work. \\textbackslash{}' In conjunct with thi Dull state: \" The public should not get alarm at the fact that we ar catch so mani spi. For on thing, it show that we ar on our toe and it doe diminish the present number of spi that the soviet have in oper. \" One of the reason that the soviet have so much troubl with their spi, point out Dull, i that thei just don\\textbackslash{}'t trust them. Soviet spi can\\textbackslash{}'t turn in inform without document to prove that thei ar tell the truth. Thu, mani spi ar caught in the difficult task of try to steal govern and defens industri document. Barghoon Case cite Mr. Dull also comment on the immedi situat. \\textbackslash{}' Khrushchev basic doesn\\textbackslash{}'t understand the Unite State. \\textbackslash{}' The Barghoorn case prove it. Khrushchev wa baffl when the Unite State made such a fuss over \\textbackslash{}' on littl incid and on person. \\textbackslash{}' Here i a great differ between the Communist and the American wai of think - thei don\\textbackslash{}'t care about the individu. The Cuban crisi also point out the basic misunderstand that Khrushchev ha of the U. S. He thought that we would back down, but we of cours didn\\textbackslash{}'t. \" One of the question that Mr. Dull entertain wa whether or not the American press gave awai too much inform for the world to read. \" Ye, \" said Dull, \" The American press i great for spy. I am especi worri about the amount of inform publish on the Nation Defens spend. Everi on know exactli what the monei i be spent for. We go to so much troubl of get inform and then the press give it awai on u. \" Mr. Dull i an author on intellig procedur and polici make. A Phi Beta Kappa graduat of Princeton where he also receiv hi Master of Art in 1928, Dull start hi career a a teacher of English in India. But within a short time of thi undertak, Mr. Dull began a long career with the U. S. Foreign Servic with assign in Switzerland, Austria - Hungari ( of the old Holi Empire ), Germani, Itali and Turkei. Mr. Dull wa also a legal advisor to the American deleg at the Geneva Convent in 1927 for which work he wa given the award of Merit and Freedom. Dure World War II, Dull wa with the OSS and wa on of the founder of the hard - core American intellig system. After the War, he help to start the Central Intellig Agenci of which he becam the Director in 1953.'"
      ],
      "text/markdown": [
       "'Dull want to make clear that the C. i. A. be a part of the Unite State govern wa a tool for the develop of polici and not that of subvers against enemi of the Unite State. CIA From OSS In try to show why the Central Intellig Agenci wa found, Dull felt it necessari to go back to the dai of World War II, and the found of the OSS. At first the Govern want to stop intellig work after the war, but three major reason made high offici decid against thi action. The first wa the surpris Japanes attack on Pearl Harbor. Dull made it clear that the main reason fro the surpris element wa not that the Unite State did not have inform about Japanes intent, but that the inform avail wa not coordin and submit to proper author. The Army, Navi and the F. B. I. did have a lot of inform on the forthcom Japanes attack, but unfortun, thi inform never went beyond these sourc. Thu, the defens forc of the Nation were never alert for an attack and the Presid did not know of it until after the disast. The second reason wa that the Unite State face a great deal of disillusion with the Russian at the Yalta Confer after which thei broke almost all of their promis on such thing a the occup of Berlin and the western orient countri such a Czechoslovakia, Hungari, and Poland. It wa not until 1947 and the Truman Doctrin which Dull call \" the year of the awaken a to what Commun meant. \" Dull felt that the Truman Doctrin wa not enough to stop the tide of Commun. Although the Unite State wa invit by the govern of Greec to help in the fight against the Communist guerrilla, it wa helpless to fight the communist in a countri in which it servic were not invit. Thu, by 1947 it wa obviou that there were enough intern troubl spot which affect the secur of the Unite State that the Presid had to have inform avail to him, which would help him In the develop of a firm polici in the fight against communist. Tee Difficult... Tee Spread Mr. Dull made it clear that the C. I. A. wa not the onli organ found for the protect of Unite State secur. The Nation Defens Act of 1947 set up the Nation Secur Council and the formal of the Defens Depart. Yet in order for the Unite State to be abl to protect herself beyond her shore the C. I. A. had to be set up becaus a Dull said: \" Our problem have gotten to difficult and spread out... and thu the C. I. A. would be abl to set up secur forc in Vietnam and Cuba. \" In help to formul polici Dull gave four major mode in which the C. I. A. must work. First it must work with the Army, Navi, Air Forc, FBI and other agenc coordin the flow of intellig when polici i need. ( Often, he said, thi inform can be \\' scare \\' the Presid into make an activ polici within a few hour. ) Secondli, the C. I. A. must learn to work In competit with the other intellig agenc In the govern. Dull felt that a littl competit develop of polici i good and that of cours too much of competit would lead to confus. Thirdli, the C. I. A. must work in conjunct with the State Depart on matter of inform. ( Mr. Dull also made it clear that it wa not the C. I. A. which made polici but the Presid and the State Depart. ) Fourthli, the C. I. A. ha a great deal of work in the field of counter intellig. He point out that mani spi ar caught a a result of \\' long, hard work. \\' In conjunct with thi Dull state: \" The public should not get alarm at the fact that we ar catch so mani spi. For on thing, it show that we ar on our toe and it doe diminish the present number of spi that the soviet have in oper. \" One of the reason that the soviet have so much troubl with their spi, point out Dull, i that thei just don\\'t trust them. Soviet spi can\\'t turn in inform without document to prove that thei ar tell the truth. Thu, mani spi ar caught in the difficult task of try to steal govern and defens industri document. Barghoon Case cite Mr. Dull also comment on the immedi situat. \\' Khrushchev basic doesn\\'t understand the Unite State. \\' The Barghoorn case prove it. Khrushchev wa baffl when the Unite State made such a fuss over \\' on littl incid and on person. \\' Here i a great differ between the Communist and the American wai of think - thei don\\'t care about the individu. The Cuban crisi also point out the basic misunderstand that Khrushchev ha of the U. S. He thought that we would back down, but we of cours didn\\'t. \" One of the question that Mr. Dull entertain wa whether or not the American press gave awai too much inform for the world to read. \" Ye, \" said Dull, \" The American press i great for spy. I am especi worri about the amount of inform publish on the Nation Defens spend. Everi on know exactli what the monei i be spent for. We go to so much troubl of get inform and then the press give it awai on u. \" Mr. Dull i an author on intellig procedur and polici make. A Phi Beta Kappa graduat of Princeton where he also receiv hi Master of Art in 1928, Dull start hi career a a teacher of English in India. But within a short time of thi undertak, Mr. Dull began a long career with the U. S. Foreign Servic with assign in Switzerland, Austria - Hungari ( of the old Holi Empire ), Germani, Itali and Turkei. Mr. Dull wa also a legal advisor to the American deleg at the Geneva Convent in 1927 for which work he wa given the award of Merit and Freedom. Dure World War II, Dull wa with the OSS and wa on of the founder of the hard - core American intellig system. After the War, he help to start the Central Intellig Agenci of which he becam the Director in 1953.'"
      ],
      "text/plain": [
       "[1] \"Dull want to make clear that the C. i. A. be a part of the Unite State govern wa a tool for the develop of polici and not that of subvers against enemi of the Unite State. CIA From OSS In try to show why the Central Intellig Agenci wa found, Dull felt it necessari to go back to the dai of World War II, and the found of the OSS. At first the Govern want to stop intellig work after the war, but three major reason made high offici decid against thi action. The first wa the surpris Japanes attack on Pearl Harbor. Dull made it clear that the main reason fro the surpris element wa not that the Unite State did not have inform about Japanes intent, but that the inform avail wa not coordin and submit to proper author. The Army, Navi and the F. B. I. did have a lot of inform on the forthcom Japanes attack, but unfortun, thi inform never went beyond these sourc. Thu, the defens forc of the Nation were never alert for an attack and the Presid did not know of it until after the disast. The second reason wa that the Unite State face a great deal of disillusion with the Russian at the Yalta Confer after which thei broke almost all of their promis on such thing a the occup of Berlin and the western orient countri such a Czechoslovakia, Hungari, and Poland. It wa not until 1947 and the Truman Doctrin which Dull call \\\" the year of the awaken a to what Commun meant. \\\" Dull felt that the Truman Doctrin wa not enough to stop the tide of Commun. Although the Unite State wa invit by the govern of Greec to help in the fight against the Communist guerrilla, it wa helpless to fight the communist in a countri in which it servic were not invit. Thu, by 1947 it wa obviou that there were enough intern troubl spot which affect the secur of the Unite State that the Presid had to have inform avail to him, which would help him In the develop of a firm polici in the fight against communist. Tee Difficult... Tee Spread Mr. Dull made it clear that the C. I. A. wa not the onli organ found for the protect of Unite State secur. The Nation Defens Act of 1947 set up the Nation Secur Council and the formal of the Defens Depart. Yet in order for the Unite State to be abl to protect herself beyond her shore the C. I. A. had to be set up becaus a Dull said: \\\" Our problem have gotten to difficult and spread out... and thu the C. I. A. would be abl to set up secur forc in Vietnam and Cuba. \\\" In help to formul polici Dull gave four major mode in which the C. I. A. must work. First it must work with the Army, Navi, Air Forc, FBI and other agenc coordin the flow of intellig when polici i need. ( Often, he said, thi inform can be ' scare ' the Presid into make an activ polici within a few hour. ) Secondli, the C. I. A. must learn to work In competit with the other intellig agenc In the govern. Dull felt that a littl competit develop of polici i good and that of cours too much of competit would lead to confus. Thirdli, the C. I. A. must work in conjunct with the State Depart on matter of inform. ( Mr. Dull also made it clear that it wa not the C. I. A. which made polici but the Presid and the State Depart. ) Fourthli, the C. I. A. ha a great deal of work in the field of counter intellig. He point out that mani spi ar caught a a result of ' long, hard work. ' In conjunct with thi Dull state: \\\" The public should not get alarm at the fact that we ar catch so mani spi. For on thing, it show that we ar on our toe and it doe diminish the present number of spi that the soviet have in oper. \\\" One of the reason that the soviet have so much troubl with their spi, point out Dull, i that thei just don't trust them. Soviet spi can't turn in inform without document to prove that thei ar tell the truth. Thu, mani spi ar caught in the difficult task of try to steal govern and defens industri document. Barghoon Case cite Mr. Dull also comment on the immedi situat. ' Khrushchev basic doesn't understand the Unite State. ' The Barghoorn case prove it. Khrushchev wa baffl when the Unite State made such a fuss over ' on littl incid and on person. ' Here i a great differ between the Communist and the American wai of think - thei don't care about the individu. The Cuban crisi also point out the basic misunderstand that Khrushchev ha of the U. S. He thought that we would back down, but we of cours didn't. \\\" One of the question that Mr. Dull entertain wa whether or not the American press gave awai too much inform for the world to read. \\\" Ye, \\\" said Dull, \\\" The American press i great for spy. I am especi worri about the amount of inform publish on the Nation Defens spend. Everi on know exactli what the monei i be spent for. We go to so much troubl of get inform and then the press give it awai on u. \\\" Mr. Dull i an author on intellig procedur and polici make. A Phi Beta Kappa graduat of Princeton where he also receiv hi Master of Art in 1928, Dull start hi career a a teacher of English in India. But within a short time of thi undertak, Mr. Dull began a long career with the U. S. Foreign Servic with assign in Switzerland, Austria - Hungari ( of the old Holi Empire ), Germani, Itali and Turkei. Mr. Dull wa also a legal advisor to the American deleg at the Geneva Convent in 1927 for which work he wa given the award of Merit and Freedom. Dure World War II, Dull wa with the OSS and wa on of the founder of the hard - core American intellig system. After the War, he help to start the Central Intellig Agenci of which he becam the Director in 1953.\""
      ]
     },
     "metadata": {},
     "output_type": "display_data"
    }
   ],
   "source": [
    "# Code Cell 12\n",
    "stemmed_articles <- stem_strings(articles, language = \"porter\") #http://snowball.tartarus.org/\n",
    "#stemmed_speeches <- stem_strings(speeches, language = \"porter2\")\n",
    "class(stemmed_articles)\n",
    "length(stemmed_articles)\n",
    "stemmed_articles[1]"
   ]
  },
  {
   "cell_type": "markdown",
   "id": "ac05cf9c-54e3-4d01-9add-6a368f4e4a03",
   "metadata": {},
   "source": [
    "## Lemmatization"
   ]
  },
  {
   "cell_type": "code",
   "execution_count": 17,
   "id": "c4168459-1fd3-4252-968f-010db8c1deb1",
   "metadata": {},
   "outputs": [
    {
     "data": {
      "text/html": [
       "'data.frame'"
      ],
      "text/latex": [
       "'data.frame'"
      ],
      "text/markdown": [
       "'data.frame'"
      ],
      "text/plain": [
       "[1] \"data.frame\""
      ]
     },
     "metadata": {},
     "output_type": "display_data"
    },
    {
     "data": {
      "text/html": [
       "<style>\n",
       ".list-inline {list-style: none; margin:0; padding: 0}\n",
       ".list-inline>li {display: inline-block}\n",
       ".list-inline>li:not(:last-child)::after {content: \"\\00b7\"; padding: 0 .5ex}\n",
       "</style>\n",
       "<ol class=list-inline><li>2573</li><li>2</li></ol>\n"
      ],
      "text/latex": [
       "\\begin{enumerate*}\n",
       "\\item 2573\n",
       "\\item 2\n",
       "\\end{enumerate*}\n"
      ],
      "text/markdown": [
       "1. 2573\n",
       "2. 2\n",
       "\n",
       "\n"
      ],
      "text/plain": [
       "[1] 2573    2"
      ]
     },
     "metadata": {},
     "output_type": "display_data"
    },
    {
     "data": {
      "text/html": [
       "<table class=\"dataframe\">\n",
       "<caption>A data.frame: 6 × 2</caption>\n",
       "<thead>\n",
       "\t<tr><th></th><th scope=col>token</th><th scope=col>lemma</th></tr>\n",
       "\t<tr><th></th><th scope=col>&lt;chr&gt;</th><th scope=col>&lt;chr&gt;</th></tr>\n",
       "</thead>\n",
       "<tbody>\n",
       "\t<tr><th scope=row>1</th><td>wanted     </td><td>want   </td></tr>\n",
       "\t<tr><th scope=row>2</th><td>being      </td><td>bee    </td></tr>\n",
       "\t<tr><th scope=row>3</th><td>united     </td><td>unite  </td></tr>\n",
       "\t<tr><th scope=row>4</th><td>states     </td><td>state  </td></tr>\n",
       "\t<tr><th scope=row>5</th><td>government </td><td>govern </td></tr>\n",
       "\t<tr><th scope=row>6</th><td>development</td><td>develop</td></tr>\n",
       "</tbody>\n",
       "</table>\n"
      ],
      "text/latex": [
       "A data.frame: 6 × 2\n",
       "\\begin{tabular}{r|ll}\n",
       "  & token & lemma\\\\\n",
       "  & <chr> & <chr>\\\\\n",
       "\\hline\n",
       "\t1 & wanted      & want   \\\\\n",
       "\t2 & being       & bee    \\\\\n",
       "\t3 & united      & unite  \\\\\n",
       "\t4 & states      & state  \\\\\n",
       "\t5 & government  & govern \\\\\n",
       "\t6 & development & develop\\\\\n",
       "\\end{tabular}\n"
      ],
      "text/markdown": [
       "\n",
       "A data.frame: 6 × 2\n",
       "\n",
       "| <!--/--> | token &lt;chr&gt; | lemma &lt;chr&gt; |\n",
       "|---|---|---|\n",
       "| 1 | wanted      | want    |\n",
       "| 2 | being       | bee     |\n",
       "| 3 | united      | unite   |\n",
       "| 4 | states      | state   |\n",
       "| 5 | government  | govern  |\n",
       "| 6 | development | develop |\n",
       "\n"
      ],
      "text/plain": [
       "  token       lemma  \n",
       "1 wanted      want   \n",
       "2 being       bee    \n",
       "3 united      unite  \n",
       "4 states      state  \n",
       "5 government  govern \n",
       "6 development develop"
      ]
     },
     "metadata": {},
     "output_type": "display_data"
    }
   ],
   "source": [
    "# Code Cell 13\n",
    "lemma_dictionary <- make_lemma_dictionary(articles, engine = 'hunspell')\n",
    "class(lemma_dictionary)\n",
    "dim(lemma_dictionary)\n",
    "head(lemma_dictionary)\n",
    "#lemma_dictionary2 <- make_lemma_dictionary(speeches, engine = 'lexicon')\n",
    "#lemma_dictionary3 <- make_lemma_dictionary(speeches, engine = 'treetagger')"
   ]
  },
  {
   "cell_type": "code",
   "execution_count": 18,
   "id": "9d591190-3277-49f0-9691-71d47f829004",
   "metadata": {},
   "outputs": [
    {
     "data": {
      "text/html": [
       "'character'"
      ],
      "text/latex": [
       "'character'"
      ],
      "text/markdown": [
       "'character'"
      ],
      "text/plain": [
       "[1] \"character\""
      ]
     },
     "metadata": {},
     "output_type": "display_data"
    },
    {
     "data": {
      "text/html": [
       "79"
      ],
      "text/latex": [
       "79"
      ],
      "text/markdown": [
       "79"
      ],
      "text/plain": [
       "[1] 79"
      ]
     },
     "metadata": {},
     "output_type": "display_data"
    },
    {
     "data": {
      "text/html": [
       "'Dulles want to make clear that the C. i. A. bee a part of the unite state govern was a tool for the develop of policy and not that of subversion against enemy of the unite state. CIA From OSS In try to show why the Central Intelligence Agency was found, Dulles felt it necessary to go back to the day of World War II, and the found of the OSS. At first the govern want to stop intelligence work aft the war, but three major reason made high official decide against this action. The first was the surprise Japanese attack on Pearl Harbor. Dulles made it clear that the main reason fro the surprise element was not that the unite state did not have information about Japanese intention, but that the information avail was not coordinate and submitted to proper authority. The Army, Navy and the F. B. I. did have a lot of information on the forthcoming Japanese attack, but fortunate, this information never went beyond these source. Thus, the defense force of the Nation were never alert for an attack and the President did not know of it until aft the aster. The second reason was that the unite state face a great deal of disillusion with the Russian at the Yalta Conference aft which they broke almost all of their promise on such the a the occupation of Berlin and the western orient country such a Czechoslovakia, Hungary, and Poland. It was not until 1947 and the Truman Doctrine which Dulles call \" the year of the awaken a to what Communism meant. \" Dulles felt that the Truman Doctrine was not enough to stop the tide of Communism. Although the unite state was invite by the govern of Greece to help in the fight against the Communist guerrilla, it was helpless to fight the communist in a country in which it service were not invite. Thus, by 1947 it was obvious that there were enough international trouble spot which affect the security of the unite state that the President had to have information avail to him, which would help him In the develop of a firm policy in the fight against communist. Tee Difficult... Tee Spread Mr. Dulles made it clear that the C. I. A. was not the on organization found for the protection of unite state security. The National Defense Act of 1947 set up the National Security Council and the formalize of the Defense Department. Yet in order for the unite state to be able to protect herself beyond h shore the C. I. A. had to be set up because a Dulles said: \" Our problem have gotten to difficult and spread out... and thus the C. I. A. would be able to set up security force in Vietnam and Cuba. \" In help to formulate policy Dulles gave four major mode in which the C. I. A. must work. First it must work with the Army, Navy, Air Force, FBI and other agency coordinate the flow of intelligence when policy i need. ( Often, he said, this information can be \\' scare \\' the President to make an act policy within a few hour. ) second, the C. I. A. must learn to work In competition with the other intelligence agency In the govern. Dulles felt that a little competition develop of policy i good and that of course too much of competition would lead to fusion. third, the C. I. A. must work in junction with the State Department on matte of information. ( Mr. Dulles also made it clear that it was not the C. I. A. which made policy but the President and the State Department. ) fourth, the C. I. A. ha a great deal of work in the field of counter intelligence. He point out that many spy are caught a a result of \\' long, hard work. \\' In junction with this Dulles state: \" The public should not get alarm at the fact that we are catch so many spy. For one the, it show that we are on our toe and it doe diminish the present numb of spy that the soviet have in operate. \" One of the reason that the soviet have so much trouble with their spy, point out Dulles, i that they just don\\'t trust them. Soviet spy can\\'t turn in information without document to prove that they are tell the truth. Thus, many spy are caught in the difficult task of try to steal govern and defense industry document. Barghoon Case cite Mr. Dulles also comment on the immediate situate. \\' Khrushchev basically doesn\\'t understand the unite state. \\' The Barghoorn case prove it. Khrushchev was baffle when the unite state made such a fuss over \\' one little incident and one person. \\' Here i a great difference between the Communist and the American way of think - they don\\'t care about the individual. The Cuban crisis also point out the basic misunderstand that Khrushchev ha of the U. S. He thought that we would back down, but we of course didn\\'t. \" One of the question that Mr. Dulles entertain was whether or not the American press gave away too much information for the world to read. \" ye, \" said Dulles, \" The American press i great for spy. I am especial worry about the amount of information publish on the National Defense spend. Every one know exact what the money i bee spent for. We go to so much trouble of getting information and then the press give it away on u. \" Mr. Dulles i an authority on intelligence procedure and policy make. A Phi Beta Kappa graduate of Princeton where he also receive hi Master of art in 1928, Dulles start hi career a a teach of English in India. But within a short time of this undertake, Mr. Dulles began a long career with the U. S. Foreign Service with assignment in Switzerland, Austria - Hungary ( of the old ho Empire ), Germany, Italy and Turkey. Mr. Dulles was also a legal advisor to the American legate at the Geneva Convention in 1927 for which work he was given the award of Merit and Freedom. During World War II, Dulles was with the OSS and was one of the founder of the hard - core American intelligence system. aft the War, he help to start the Central Intelligence Agency of which he became the Director in 1953.'"
      ],
      "text/latex": [
       "'Dulles want to make clear that the C. i. A. bee a part of the unite state govern was a tool for the develop of policy and not that of subversion against enemy of the unite state. CIA From OSS In try to show why the Central Intelligence Agency was found, Dulles felt it necessary to go back to the day of World War II, and the found of the OSS. At first the govern want to stop intelligence work aft the war, but three major reason made high official decide against this action. The first was the surprise Japanese attack on Pearl Harbor. Dulles made it clear that the main reason fro the surprise element was not that the unite state did not have information about Japanese intention, but that the information avail was not coordinate and submitted to proper authority. The Army, Navy and the F. B. I. did have a lot of information on the forthcoming Japanese attack, but fortunate, this information never went beyond these source. Thus, the defense force of the Nation were never alert for an attack and the President did not know of it until aft the aster. The second reason was that the unite state face a great deal of disillusion with the Russian at the Yalta Conference aft which they broke almost all of their promise on such the a the occupation of Berlin and the western orient country such a Czechoslovakia, Hungary, and Poland. It was not until 1947 and the Truman Doctrine which Dulles call \" the year of the awaken a to what Communism meant. \" Dulles felt that the Truman Doctrine was not enough to stop the tide of Communism. Although the unite state was invite by the govern of Greece to help in the fight against the Communist guerrilla, it was helpless to fight the communist in a country in which it service were not invite. Thus, by 1947 it was obvious that there were enough international trouble spot which affect the security of the unite state that the President had to have information avail to him, which would help him In the develop of a firm policy in the fight against communist. Tee Difficult... Tee Spread Mr. Dulles made it clear that the C. I. A. was not the on organization found for the protection of unite state security. The National Defense Act of 1947 set up the National Security Council and the formalize of the Defense Department. Yet in order for the unite state to be able to protect herself beyond h shore the C. I. A. had to be set up because a Dulles said: \" Our problem have gotten to difficult and spread out... and thus the C. I. A. would be able to set up security force in Vietnam and Cuba. \" In help to formulate policy Dulles gave four major mode in which the C. I. A. must work. First it must work with the Army, Navy, Air Force, FBI and other agency coordinate the flow of intelligence when policy i need. ( Often, he said, this information can be \\textbackslash{}' scare \\textbackslash{}' the President to make an act policy within a few hour. ) second, the C. I. A. must learn to work In competition with the other intelligence agency In the govern. Dulles felt that a little competition develop of policy i good and that of course too much of competition would lead to fusion. third, the C. I. A. must work in junction with the State Department on matte of information. ( Mr. Dulles also made it clear that it was not the C. I. A. which made policy but the President and the State Department. ) fourth, the C. I. A. ha a great deal of work in the field of counter intelligence. He point out that many spy are caught a a result of \\textbackslash{}' long, hard work. \\textbackslash{}' In junction with this Dulles state: \" The public should not get alarm at the fact that we are catch so many spy. For one the, it show that we are on our toe and it doe diminish the present numb of spy that the soviet have in operate. \" One of the reason that the soviet have so much trouble with their spy, point out Dulles, i that they just don\\textbackslash{}'t trust them. Soviet spy can\\textbackslash{}'t turn in information without document to prove that they are tell the truth. Thus, many spy are caught in the difficult task of try to steal govern and defense industry document. Barghoon Case cite Mr. Dulles also comment on the immediate situate. \\textbackslash{}' Khrushchev basically doesn\\textbackslash{}'t understand the unite state. \\textbackslash{}' The Barghoorn case prove it. Khrushchev was baffle when the unite state made such a fuss over \\textbackslash{}' one little incident and one person. \\textbackslash{}' Here i a great difference between the Communist and the American way of think - they don\\textbackslash{}'t care about the individual. The Cuban crisis also point out the basic misunderstand that Khrushchev ha of the U. S. He thought that we would back down, but we of course didn\\textbackslash{}'t. \" One of the question that Mr. Dulles entertain was whether or not the American press gave away too much information for the world to read. \" ye, \" said Dulles, \" The American press i great for spy. I am especial worry about the amount of information publish on the National Defense spend. Every one know exact what the money i bee spent for. We go to so much trouble of getting information and then the press give it away on u. \" Mr. Dulles i an authority on intelligence procedure and policy make. A Phi Beta Kappa graduate of Princeton where he also receive hi Master of art in 1928, Dulles start hi career a a teach of English in India. But within a short time of this undertake, Mr. Dulles began a long career with the U. S. Foreign Service with assignment in Switzerland, Austria - Hungary ( of the old ho Empire ), Germany, Italy and Turkey. Mr. Dulles was also a legal advisor to the American legate at the Geneva Convention in 1927 for which work he was given the award of Merit and Freedom. During World War II, Dulles was with the OSS and was one of the founder of the hard - core American intelligence system. aft the War, he help to start the Central Intelligence Agency of which he became the Director in 1953.'"
      ],
      "text/markdown": [
       "'Dulles want to make clear that the C. i. A. bee a part of the unite state govern was a tool for the develop of policy and not that of subversion against enemy of the unite state. CIA From OSS In try to show why the Central Intelligence Agency was found, Dulles felt it necessary to go back to the day of World War II, and the found of the OSS. At first the govern want to stop intelligence work aft the war, but three major reason made high official decide against this action. The first was the surprise Japanese attack on Pearl Harbor. Dulles made it clear that the main reason fro the surprise element was not that the unite state did not have information about Japanese intention, but that the information avail was not coordinate and submitted to proper authority. The Army, Navy and the F. B. I. did have a lot of information on the forthcoming Japanese attack, but fortunate, this information never went beyond these source. Thus, the defense force of the Nation were never alert for an attack and the President did not know of it until aft the aster. The second reason was that the unite state face a great deal of disillusion with the Russian at the Yalta Conference aft which they broke almost all of their promise on such the a the occupation of Berlin and the western orient country such a Czechoslovakia, Hungary, and Poland. It was not until 1947 and the Truman Doctrine which Dulles call \" the year of the awaken a to what Communism meant. \" Dulles felt that the Truman Doctrine was not enough to stop the tide of Communism. Although the unite state was invite by the govern of Greece to help in the fight against the Communist guerrilla, it was helpless to fight the communist in a country in which it service were not invite. Thus, by 1947 it was obvious that there were enough international trouble spot which affect the security of the unite state that the President had to have information avail to him, which would help him In the develop of a firm policy in the fight against communist. Tee Difficult... Tee Spread Mr. Dulles made it clear that the C. I. A. was not the on organization found for the protection of unite state security. The National Defense Act of 1947 set up the National Security Council and the formalize of the Defense Department. Yet in order for the unite state to be able to protect herself beyond h shore the C. I. A. had to be set up because a Dulles said: \" Our problem have gotten to difficult and spread out... and thus the C. I. A. would be able to set up security force in Vietnam and Cuba. \" In help to formulate policy Dulles gave four major mode in which the C. I. A. must work. First it must work with the Army, Navy, Air Force, FBI and other agency coordinate the flow of intelligence when policy i need. ( Often, he said, this information can be \\' scare \\' the President to make an act policy within a few hour. ) second, the C. I. A. must learn to work In competition with the other intelligence agency In the govern. Dulles felt that a little competition develop of policy i good and that of course too much of competition would lead to fusion. third, the C. I. A. must work in junction with the State Department on matte of information. ( Mr. Dulles also made it clear that it was not the C. I. A. which made policy but the President and the State Department. ) fourth, the C. I. A. ha a great deal of work in the field of counter intelligence. He point out that many spy are caught a a result of \\' long, hard work. \\' In junction with this Dulles state: \" The public should not get alarm at the fact that we are catch so many spy. For one the, it show that we are on our toe and it doe diminish the present numb of spy that the soviet have in operate. \" One of the reason that the soviet have so much trouble with their spy, point out Dulles, i that they just don\\'t trust them. Soviet spy can\\'t turn in information without document to prove that they are tell the truth. Thus, many spy are caught in the difficult task of try to steal govern and defense industry document. Barghoon Case cite Mr. Dulles also comment on the immediate situate. \\' Khrushchev basically doesn\\'t understand the unite state. \\' The Barghoorn case prove it. Khrushchev was baffle when the unite state made such a fuss over \\' one little incident and one person. \\' Here i a great difference between the Communist and the American way of think - they don\\'t care about the individual. The Cuban crisis also point out the basic misunderstand that Khrushchev ha of the U. S. He thought that we would back down, but we of course didn\\'t. \" One of the question that Mr. Dulles entertain was whether or not the American press gave away too much information for the world to read. \" ye, \" said Dulles, \" The American press i great for spy. I am especial worry about the amount of information publish on the National Defense spend. Every one know exact what the money i bee spent for. We go to so much trouble of getting information and then the press give it away on u. \" Mr. Dulles i an authority on intelligence procedure and policy make. A Phi Beta Kappa graduate of Princeton where he also receive hi Master of art in 1928, Dulles start hi career a a teach of English in India. But within a short time of this undertake, Mr. Dulles began a long career with the U. S. Foreign Service with assignment in Switzerland, Austria - Hungary ( of the old ho Empire ), Germany, Italy and Turkey. Mr. Dulles was also a legal advisor to the American legate at the Geneva Convention in 1927 for which work he was given the award of Merit and Freedom. During World War II, Dulles was with the OSS and was one of the founder of the hard - core American intelligence system. aft the War, he help to start the Central Intelligence Agency of which he became the Director in 1953.'"
      ],
      "text/plain": [
       "[1] \"Dulles want to make clear that the C. i. A. bee a part of the unite state govern was a tool for the develop of policy and not that of subversion against enemy of the unite state. CIA From OSS In try to show why the Central Intelligence Agency was found, Dulles felt it necessary to go back to the day of World War II, and the found of the OSS. At first the govern want to stop intelligence work aft the war, but three major reason made high official decide against this action. The first was the surprise Japanese attack on Pearl Harbor. Dulles made it clear that the main reason fro the surprise element was not that the unite state did not have information about Japanese intention, but that the information avail was not coordinate and submitted to proper authority. The Army, Navy and the F. B. I. did have a lot of information on the forthcoming Japanese attack, but fortunate, this information never went beyond these source. Thus, the defense force of the Nation were never alert for an attack and the President did not know of it until aft the aster. The second reason was that the unite state face a great deal of disillusion with the Russian at the Yalta Conference aft which they broke almost all of their promise on such the a the occupation of Berlin and the western orient country such a Czechoslovakia, Hungary, and Poland. It was not until 1947 and the Truman Doctrine which Dulles call \\\" the year of the awaken a to what Communism meant. \\\" Dulles felt that the Truman Doctrine was not enough to stop the tide of Communism. Although the unite state was invite by the govern of Greece to help in the fight against the Communist guerrilla, it was helpless to fight the communist in a country in which it service were not invite. Thus, by 1947 it was obvious that there were enough international trouble spot which affect the security of the unite state that the President had to have information avail to him, which would help him In the develop of a firm policy in the fight against communist. Tee Difficult... Tee Spread Mr. Dulles made it clear that the C. I. A. was not the on organization found for the protection of unite state security. The National Defense Act of 1947 set up the National Security Council and the formalize of the Defense Department. Yet in order for the unite state to be able to protect herself beyond h shore the C. I. A. had to be set up because a Dulles said: \\\" Our problem have gotten to difficult and spread out... and thus the C. I. A. would be able to set up security force in Vietnam and Cuba. \\\" In help to formulate policy Dulles gave four major mode in which the C. I. A. must work. First it must work with the Army, Navy, Air Force, FBI and other agency coordinate the flow of intelligence when policy i need. ( Often, he said, this information can be ' scare ' the President to make an act policy within a few hour. ) second, the C. I. A. must learn to work In competition with the other intelligence agency In the govern. Dulles felt that a little competition develop of policy i good and that of course too much of competition would lead to fusion. third, the C. I. A. must work in junction with the State Department on matte of information. ( Mr. Dulles also made it clear that it was not the C. I. A. which made policy but the President and the State Department. ) fourth, the C. I. A. ha a great deal of work in the field of counter intelligence. He point out that many spy are caught a a result of ' long, hard work. ' In junction with this Dulles state: \\\" The public should not get alarm at the fact that we are catch so many spy. For one the, it show that we are on our toe and it doe diminish the present numb of spy that the soviet have in operate. \\\" One of the reason that the soviet have so much trouble with their spy, point out Dulles, i that they just don't trust them. Soviet spy can't turn in information without document to prove that they are tell the truth. Thus, many spy are caught in the difficult task of try to steal govern and defense industry document. Barghoon Case cite Mr. Dulles also comment on the immediate situate. ' Khrushchev basically doesn't understand the unite state. ' The Barghoorn case prove it. Khrushchev was baffle when the unite state made such a fuss over ' one little incident and one person. ' Here i a great difference between the Communist and the American way of think - they don't care about the individual. The Cuban crisis also point out the basic misunderstand that Khrushchev ha of the U. S. He thought that we would back down, but we of course didn't. \\\" One of the question that Mr. Dulles entertain was whether or not the American press gave away too much information for the world to read. \\\" ye, \\\" said Dulles, \\\" The American press i great for spy. I am especial worry about the amount of information publish on the National Defense spend. Every one know exact what the money i bee spent for. We go to so much trouble of getting information and then the press give it away on u. \\\" Mr. Dulles i an authority on intelligence procedure and policy make. A Phi Beta Kappa graduate of Princeton where he also receive hi Master of art in 1928, Dulles start hi career a a teach of English in India. But within a short time of this undertake, Mr. Dulles began a long career with the U. S. Foreign Service with assignment in Switzerland, Austria - Hungary ( of the old ho Empire ), Germany, Italy and Turkey. Mr. Dulles was also a legal advisor to the American legate at the Geneva Convention in 1927 for which work he was given the award of Merit and Freedom. During World War II, Dulles was with the OSS and was one of the founder of the hard - core American intelligence system. aft the War, he help to start the Central Intelligence Agency of which he became the Director in 1953.\""
      ]
     },
     "metadata": {},
     "output_type": "display_data"
    }
   ],
   "source": [
    "# Code Cell 14\n",
    "lem_articles <- lemmatize_strings(articles, dictionary = lemma_dictionary)\n",
    "class(lem_articles)\n",
    "length(lem_articles)\n",
    "lem_articles[1]"
   ]
  }
 ],
 "metadata": {
  "kernelspec": {
   "display_name": "R 4.2",
   "language": "R",
   "name": "ir"
  },
  "language_info": {
   "codemirror_mode": "r",
   "file_extension": ".r",
   "mimetype": "text/x-r-source",
   "name": "R",
   "pygments_lexer": "r",
   "version": "4.2.2"
  }
 },
 "nbformat": 4,
 "nbformat_minor": 5
}
