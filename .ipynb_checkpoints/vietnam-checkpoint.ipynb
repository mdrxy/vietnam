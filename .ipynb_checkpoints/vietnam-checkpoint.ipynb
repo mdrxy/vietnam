{
 "cells": [
  {
   "cell_type": "markdown",
   "id": "ce58fb12-7eef-417e-86ee-3a6e5a05dabb",
   "metadata": {},
   "source": [
    "# *The Bowdoin Orient*'s Reporting on Vietnam Between 1955-75\n",
    "### DCS 2500 Final Project - Daugherty - Jupyter Notebook"
   ]
  },
  {
   "cell_type": "markdown",
   "id": "407e1f29-1314-49d3-a530-c71ce7902bb4",
   "metadata": {},
   "source": [
    "I chose to use the tidy packages and data format for this analysis for several reasons:\n",
    "* **Consistency and Readability:** Tidy data format ensures that each variable forms a column, each observation forms a row, and each observational unit forms a table. This consistency made the data easy to manipulate, model, and visualize.\n",
    "* **Interoperability:** The tidy format works seamlessly with ggplot2 for visualizations, dplyr for data manipulation, and tidytext for text-based functions This interoperability reduced the complexity of code and made the analysis process more efficient.\n",
    "* **Informed by Academic Theories & Principles:** The tidy data principles and the tidyverse packages are instrumental in enabling distant reading (text analysis where large amounts of data are analyzed computationally to reveal patterns, trends, and structures that might not be discernible through traditional close reading). For instance, the tidytext package, which applies tidy data principles to text mining, allows for efficient manipulation, management, and analysis of text data. This makes it possible to explore and interpret large amounts of text data, hence enabling distant reading."
   ]
  },
  {
   "cell_type": "markdown",
   "id": "b41c89b1-1b32-43c9-9ffc-90a3b2625128",
   "metadata": {},
   "source": [
    "## Setup"
   ]
  },
  {
   "cell_type": "code",
   "execution_count": 210,
   "id": "93791b71-f2c7-4063-84e9-278470de93f4",
   "metadata": {},
   "outputs": [],
   "source": [
    "# Set path to articles folder\n",
    "library(here)\n",
    "folder_path <- here(\"articles\") # articles is the name of the folder containing the .txt's\n",
    "setwd(folder_path) # set working directory of this notebook"
   ]
  },
  {
   "cell_type": "code",
   "execution_count": 211,
   "id": "b034a389-bef3-4def-9c3a-6d3943e2387e",
   "metadata": {},
   "outputs": [],
   "source": [
    "# Put .txt files into list to create corpus from\n",
    "file_list <- list.files(pattern = \"\\\\.txt$\")"
   ]
  },
  {
   "cell_type": "code",
   "execution_count": 255,
   "id": "f84da312-9798-40af-8f7f-00289e177751",
   "metadata": {},
   "outputs": [],
   "source": [
    "# Load stop words\n",
    "snowball_eng_stopwords <- readLines(here(\"stopword_lists/snowball_eng_stopwords.txt\"))\n",
    "snowball_eng_stopwords <- snowball_eng_stopwords[snowball_eng_stopwords != \"\"] # Filter out empty lines\n",
    "\n",
    "voyant_eng_stopwords <- readLines(here(\"stopword_lists/voyant_eng_stopwords.txt\"))\n",
    "voyant_eng_stopwords <- voyant_eng_stopwords[voyant_eng_stopwords != \"\"] # Filter out empty lines\n",
    "\n",
    "custom_eng_stopwords <- readLines(here(\"stopword_lists/custom_eng_stopwords.txt\"))\n",
    "custom_eng_stopwords <- custom_eng_stopwords[custom_eng_stopwords != \"\"] # Filter out empty lines"
   ]
  },
  {
   "cell_type": "code",
   "execution_count": 256,
   "id": "dfd316d3-10d8-4845-9d53-7ade94c08fc9",
   "metadata": {},
   "outputs": [],
   "source": [
    "# Load in the Bing sentiment lexicon.\n",
    "# General purpose, English, categorizes words in a binary fashion (either positive/negative)\n",
    "bing_lexicon <- get_sentiments(\"bing\")"
   ]
  },
  {
   "cell_type": "markdown",
   "id": "1701d770-361a-4e57-9202-655e8fd4ff22",
   "metadata": {},
   "source": [
    "## Metadata Extraction Functions"
   ]
  },
  {
   "cell_type": "code",
   "execution_count": 257,
   "id": "8df5059f-d553-4d76-9e2a-2f89659ef285",
   "metadata": {},
   "outputs": [],
   "source": [
    "# Filename: EXTRACT ARTICLE ISSUE, put in 3 digit format, e.g. `096` for issue `96`, `112` for `112`\n",
    "get_issue <- function(file) {\n",
    "    issue <- strsplit(file, \"_\")[[1]][1]\n",
    "    if (grepl(\"^0\", issue)) {\n",
    "        issue <- substring(issue, 2)\n",
    "    }\n",
    "    return(issue)\n",
    "}"
   ]
  },
  {
   "cell_type": "code",
   "execution_count": 258,
   "id": "25924ff7-7ad5-448e-9ac1-e8d85db69574",
   "metadata": {},
   "outputs": [],
   "source": [
    "# Filename: EXTRACT ARTICLE PUBLICATION DATE using <date> with format `mm-dd-yyyy`\n",
    "get_date <- function(file) {\n",
    "    date_raw <- strsplit(file, \"_\")[[1]][2]\n",
    "    article_date <- as.Date(date_raw, format = \"%m-%d-%Y\")\n",
    "    return(article_date)\n",
    "}"
   ]
  },
  {
   "cell_type": "code",
   "execution_count": 259,
   "id": "bb17b013-e33e-4f8d-a4e5-411e13dabef6",
   "metadata": {},
   "outputs": [],
   "source": [
    "# File Content: READ FILE as <chr> vector by space character\n",
    "read_file_content <- function(file) {\n",
    "    file_content <- suppressWarnings(readLines(file))\n",
    "    file_content <- paste(file_content, collapse = \" \")\n",
    "    return(file_content)\n",
    "}"
   ]
  },
  {
   "cell_type": "code",
   "execution_count": 260,
   "id": "d54c4e56-257d-4905-9c44-5b73af5362b5",
   "metadata": {},
   "outputs": [],
   "source": [
    "# File Content: EXTRACT ARTICLE TITLE\n",
    "extract_title <- function(file_content) {\n",
    "    title <- sub(\"@BODY=.*\", \"\", file_content)\n",
    "    title <- sub(\"@TITLE=\", \"\", title) # Only keep text between tags\n",
    "    title <- gsub(\"\\\\s+\", \" \", gsub(\"(^\\\\s+|\\\\s+$)\", \"\", title)) # Remove bizarre spaces\n",
    "    return(title)\n",
    "}"
   ]
  },
  {
   "cell_type": "code",
   "execution_count": 261,
   "id": "b548bb78-9501-40ff-95da-f53ee33debe3",
   "metadata": {},
   "outputs": [],
   "source": [
    "# File Content: EXTRACT BODY TEXT\n",
    "extract_body_text <- function(file) {\n",
    "    body_text <- sub(\".*@BODY=\", \"\", file) # All chars after tag\n",
    "    return(body_text)\n",
    "}"
   ]
  },
  {
   "cell_type": "code",
   "execution_count": 262,
   "id": "24d1d2cc-c9d9-4a6d-96ce-bbabeaa01214",
   "metadata": {},
   "outputs": [],
   "source": [
    "# File Content > Body Text: remove punctuation/special characters, a.k.a., ONLY KEEP LETTERS (and spaces)\n",
    "keep_letters <- function(body) {\n",
    "    body_letters_only <- gsub(\"-\", \" \", body) # replaces \"-\" with \" \"\n",
    "    body_letters_only <- gsub(\"[^[:alpha:][:space:]]\", \"\", body_letters_only)\n",
    "    body_letters_only <- gsub(\"\\\\s+\", \" \", body_letters_only) # Remove multiple sequential spaces\n",
    "    return(body_letters_only)\n",
    "}"
   ]
  },
  {
   "cell_type": "code",
   "execution_count": 263,
   "id": "38d7e793-ccfd-4ef5-a129-125370f03868",
   "metadata": {},
   "outputs": [],
   "source": [
    "# File Content > Body Text: TOKENIZE by word\n",
    "tokenize <- function(body_cleaned) {\n",
    "    body_words <- unlist(strsplit(body_cleaned, \" \"))\n",
    "    return(body_words)\n",
    "}"
   ]
  },
  {
   "cell_type": "code",
   "execution_count": 264,
   "id": "d0927c8c-742a-457b-aab2-85198b0bca55",
   "metadata": {},
   "outputs": [],
   "source": [
    "# File Content > Body Text > Tokens: REMOVE STOP WORDS\n",
    "remove_stop_words <- function(body_tokenized) {\n",
    "    body_stop_removed <- body_tokenized[!body_tokenized %in% stopwords]\n",
    "    return(body_stop_removed)\n",
    "}"
   ]
  },
  {
   "cell_type": "code",
   "execution_count": 265,
   "id": "727ec202-a0ab-4f1f-a650-5e30006fb24a",
   "metadata": {},
   "outputs": [],
   "source": [
    "# GET TOKENS FROM BODY text of a file\n",
    "get_body <- function(file_content) {\n",
    "    body_parsed <- extract_body_text(file_content)\n",
    "    body_lowercase <- tolower(body_parsed) # Make the body text lowercase\n",
    "    body_letters_only <- keep_letters(body_lowercase)\n",
    "    body_tokenized <- tokenize(body_letters_only)\n",
    "    return(body_tokenized)\n",
    "}"
   ]
  },
  {
   "cell_type": "markdown",
   "id": "b2e158c2-c60a-4921-8bb5-a64be1e26262",
   "metadata": {},
   "source": [
    "## Corpus Creation"
   ]
  },
  {
   "cell_type": "code",
   "execution_count": 266,
   "id": "76c37ebe-668b-4d9d-af98-f237aabf7f5c",
   "metadata": {},
   "outputs": [],
   "source": [
    "# Initialize lists to fill with article data\n",
    "issues <- as.numeric()\n",
    "dates <- list()\n",
    "titles <- as.character()\n",
    "body_texts <- as.character()\n",
    "body_words <- list()"
   ]
  },
  {
   "cell_type": "code",
   "execution_count": 267,
   "id": "434cc99a-5242-4f64-b465-072f603bea0d",
   "metadata": {},
   "outputs": [],
   "source": [
    "# For each article, extract content and metadata, filling the above lists\n",
    "for(i in 1:length(file_list)) {\n",
    "    issue <- get_issue(file_list[i])\n",
    "    issues[[i]] <- issue\n",
    "    \n",
    "    article_date <- get_date(file_list[i])\n",
    "    dates[[i]] <- article_date\n",
    "    dates <- as.Date(unlist(dates), origin = \"1970-01-01\")\n",
    "    \n",
    "    file_content <- read_file_content(file_list[i])\n",
    "    \n",
    "    title <- extract_title(file_content)\n",
    "    titles[[i]] <- title\n",
    "    \n",
    "    body_raw <- extract_body_text(file_content)\n",
    "    body_texts[[i]] <- body_raw\n",
    "    \n",
    "    body_processed <- get_body(file_content)\n",
    "    body_stop_removed <- remove_stop_words(body_processed)\n",
    "    body_words[[i]] <- body_stop_removed\n",
    "}"
   ]
  },
  {
   "cell_type": "code",
   "execution_count": 268,
   "id": "2a67eae0-a844-459a-b63f-d8cb3a28600e",
   "metadata": {},
   "outputs": [],
   "source": [
    "# Use the list data to create a tibble where each list represents a column\n",
    "library(tidyverse)\n",
    "library(tidytext)\n",
    "\n",
    "corpus <- tibble(\n",
    "    issue = as.numeric(issues),\n",
    "    date = dates,\n",
    "    title = titles,\n",
    "    word = body_words,\n",
    "    article_body = body_texts,\n",
    ")\n",
    "corpus <- corpus %>% unnest(word) # Break each word into separate rows (whilst keeping metadata)"
   ]
  },
  {
   "cell_type": "code",
   "execution_count": 269,
   "id": "933eb218-4313-49e1-8448-316d6cc34f97",
   "metadata": {},
   "outputs": [
    {
     "data": {
      "text/html": [
       "<table class=\"dataframe\">\n",
       "<caption>A tibble: 42731 × 4</caption>\n",
       "<thead>\n",
       "\t<tr><th scope=col>issue</th><th scope=col>date</th><th scope=col>title</th><th scope=col>word</th></tr>\n",
       "\t<tr><th scope=col>&lt;dbl&gt;</th><th scope=col>&lt;date&gt;</th><th scope=col>&lt;chr&gt;</th><th scope=col>&lt;chr&gt;</th></tr>\n",
       "</thead>\n",
       "<tbody>\n",
       "\t<tr><td>91</td><td>1961-10-19</td><td>CAMBODIA</td><td>cambodians</td></tr>\n",
       "\t<tr><td>91</td><td>1961-10-19</td><td>CAMBODIA</td><td>greet     </td></tr>\n",
       "\t<tr><td>91</td><td>1961-10-19</td><td>CAMBODIA</td><td>bowing    </td></tr>\n",
       "\t<tr><td>91</td><td>1961-10-19</td><td>CAMBODIA</td><td>hands     </td></tr>\n",
       "\t<tr><td>91</td><td>1961-10-19</td><td>CAMBODIA</td><td>position  </td></tr>\n",
       "\t<tr><td>91</td><td>1961-10-19</td><td>CAMBODIA</td><td>prayer    </td></tr>\n",
       "\t<tr><td>91</td><td>1961-10-19</td><td>CAMBODIA</td><td>large     </td></tr>\n",
       "\t<tr><td>91</td><td>1961-10-19</td><td>CAMBODIA</td><td>cities    </td></tr>\n",
       "\t<tr><td>91</td><td>1961-10-19</td><td>CAMBODIA</td><td>now       </td></tr>\n",
       "\t<tr><td>91</td><td>1961-10-19</td><td>CAMBODIA</td><td>shake     </td></tr>\n",
       "\t<tr><td>91</td><td>1961-10-19</td><td>CAMBODIA</td><td>hands     </td></tr>\n",
       "\t<tr><td>91</td><td>1961-10-19</td><td>CAMBODIA</td><td>common    </td></tr>\n",
       "\t<tr><td>91</td><td>1961-10-19</td><td>CAMBODIA</td><td>practice  </td></tr>\n",
       "\t<tr><td>91</td><td>1961-10-19</td><td>CAMBODIA</td><td>something </td></tr>\n",
       "\t<tr><td>91</td><td>1961-10-19</td><td>CAMBODIA</td><td>appear    </td></tr>\n",
       "\t<tr><td>91</td><td>1961-10-19</td><td>CAMBODIA</td><td>highly    </td></tr>\n",
       "\t<tr><td>91</td><td>1961-10-19</td><td>CAMBODIA</td><td>unusual   </td></tr>\n",
       "\t<tr><td>91</td><td>1961-10-19</td><td>CAMBODIA</td><td>westerners</td></tr>\n",
       "\t<tr><td>91</td><td>1961-10-19</td><td>CAMBODIA</td><td>cambodian </td></tr>\n",
       "\t<tr><td>91</td><td>1961-10-19</td><td>CAMBODIA</td><td>custom    </td></tr>\n",
       "\t<tr><td>91</td><td>1961-10-19</td><td>CAMBODIA</td><td>holding   </td></tr>\n",
       "\t<tr><td>91</td><td>1961-10-19</td><td>CAMBODIA</td><td>hands     </td></tr>\n",
       "\t<tr><td>91</td><td>1961-10-19</td><td>CAMBODIA</td><td>friends   </td></tr>\n",
       "\t<tr><td>91</td><td>1961-10-19</td><td>CAMBODIA</td><td>sex       </td></tr>\n",
       "\t<tr><td>91</td><td>1961-10-19</td><td>CAMBODIA</td><td>roughly   </td></tr>\n",
       "\t<tr><td>91</td><td>1961-10-19</td><td>CAMBODIA</td><td>equivalent</td></tr>\n",
       "\t<tr><td>91</td><td>1961-10-19</td><td>CAMBODIA</td><td>american  </td></tr>\n",
       "\t<tr><td>91</td><td>1961-10-19</td><td>CAMBODIA</td><td>custom    </td></tr>\n",
       "\t<tr><td>91</td><td>1961-10-19</td><td>CAMBODIA</td><td>slapping  </td></tr>\n",
       "\t<tr><td>91</td><td>1961-10-19</td><td>CAMBODIA</td><td>good      </td></tr>\n",
       "\t<tr><td>⋮</td><td>⋮</td><td>⋮</td><td>⋮</td></tr>\n",
       "\t<tr><td>101</td><td>1972-03-03</td><td>Kindly Old Lady Exposes The Brutality of \"The Automated Air War\"</td><td>maybe       </td></tr>\n",
       "\t<tr><td>101</td><td>1972-03-03</td><td>Kindly Old Lady Exposes The Brutality of \"The Automated Air War\"</td><td>began       </td></tr>\n",
       "\t<tr><td>101</td><td>1972-03-03</td><td>Kindly Old Lady Exposes The Brutality of \"The Automated Air War\"</td><td>bearded     </td></tr>\n",
       "\t<tr><td>101</td><td>1972-03-03</td><td>Kindly Old Lady Exposes The Brutality of \"The Automated Air War\"</td><td>bowdoin     </td></tr>\n",
       "\t<tr><td>101</td><td>1972-03-03</td><td>Kindly Old Lady Exposes The Brutality of \"The Automated Air War\"</td><td>student     </td></tr>\n",
       "\t<tr><td>101</td><td>1972-03-03</td><td>Kindly Old Lady Exposes The Brutality of \"The Automated Air War\"</td><td>getting     </td></tr>\n",
       "\t<tr><td>101</td><td>1972-03-03</td><td>Kindly Old Lady Exposes The Brutality of \"The Automated Air War\"</td><td>heart       </td></tr>\n",
       "\t<tr><td>101</td><td>1972-03-03</td><td>Kindly Old Lady Exposes The Brutality of \"The Automated Air War\"</td><td>need        </td></tr>\n",
       "\t<tr><td>101</td><td>1972-03-03</td><td>Kindly Old Lady Exposes The Brutality of \"The Automated Air War\"</td><td>revolution  </td></tr>\n",
       "\t<tr><td>101</td><td>1972-03-03</td><td>Kindly Old Lady Exposes The Brutality of \"The Automated Air War\"</td><td>maybe       </td></tr>\n",
       "\t<tr><td>101</td><td>1972-03-03</td><td>Kindly Old Lady Exposes The Brutality of \"The Automated Air War\"</td><td>need        </td></tr>\n",
       "\t<tr><td>101</td><td>1972-03-03</td><td>Kindly Old Lady Exposes The Brutality of \"The Automated Air War\"</td><td>kidnap      </td></tr>\n",
       "\t<tr><td>101</td><td>1972-03-03</td><td>Kindly Old Lady Exposes The Brutality of \"The Automated Air War\"</td><td>kissinger   </td></tr>\n",
       "\t<tr><td>101</td><td>1972-03-03</td><td>Kindly Old Lady Exposes The Brutality of \"The Automated Air War\"</td><td>american    </td></tr>\n",
       "\t<tr><td>101</td><td>1972-03-03</td><td>Kindly Old Lady Exposes The Brutality of \"The Automated Air War\"</td><td>foreign     </td></tr>\n",
       "\t<tr><td>101</td><td>1972-03-03</td><td>Kindly Old Lady Exposes The Brutality of \"The Automated Air War\"</td><td>aid         </td></tr>\n",
       "\t<tr><td>101</td><td>1972-03-03</td><td>Kindly Old Lady Exposes The Brutality of \"The Automated Air War\"</td><td>program     </td></tr>\n",
       "\t<tr><td>101</td><td>1972-03-03</td><td>Kindly Old Lady Exposes The Brutality of \"The Automated Air War\"</td><td>offers      </td></tr>\n",
       "\t<tr><td>101</td><td>1972-03-03</td><td>Kindly Old Lady Exposes The Brutality of \"The Automated Air War\"</td><td>best        </td></tr>\n",
       "\t<tr><td>101</td><td>1972-03-03</td><td>Kindly Old Lady Exposes The Brutality of \"The Automated Air War\"</td><td>know        </td></tr>\n",
       "\t<tr><td>101</td><td>1972-03-03</td><td>Kindly Old Lady Exposes The Brutality of \"The Automated Air War\"</td><td>ingenuity   </td></tr>\n",
       "\t<tr><td>101</td><td>1972-03-03</td><td>Kindly Old Lady Exposes The Brutality of \"The Automated Air War\"</td><td>backward    </td></tr>\n",
       "\t<tr><td>101</td><td>1972-03-03</td><td>Kindly Old Lady Exposes The Brutality of \"The Automated Air War\"</td><td>countries   </td></tr>\n",
       "\t<tr><td>101</td><td>1972-03-03</td><td>Kindly Old Lady Exposes The Brutality of \"The Automated Air War\"</td><td>pictured    </td></tr>\n",
       "\t<tr><td>101</td><td>1972-03-03</td><td>Kindly Old Lady Exposes The Brutality of \"The Automated Air War\"</td><td>americas    </td></tr>\n",
       "\t<tr><td>101</td><td>1972-03-03</td><td>Kindly Old Lady Exposes The Brutality of \"The Automated Air War\"</td><td>contribution</td></tr>\n",
       "\t<tr><td>101</td><td>1972-03-03</td><td>Kindly Old Lady Exposes The Brutality of \"The Automated Air War\"</td><td>north       </td></tr>\n",
       "\t<tr><td>101</td><td>1972-03-03</td><td>Kindly Old Lady Exposes The Brutality of \"The Automated Air War\"</td><td>vietnams    </td></tr>\n",
       "\t<tr><td>101</td><td>1972-03-03</td><td>Kindly Old Lady Exposes The Brutality of \"The Automated Air War\"</td><td>fall        </td></tr>\n",
       "\t<tr><td>101</td><td>1972-03-03</td><td>Kindly Old Lady Exposes The Brutality of \"The Automated Air War\"</td><td>crop        </td></tr>\n",
       "</tbody>\n",
       "</table>\n"
      ],
      "text/latex": [
       "A tibble: 42731 × 4\n",
       "\\begin{tabular}{llll}\n",
       " issue & date & title & word\\\\\n",
       " <dbl> & <date> & <chr> & <chr>\\\\\n",
       "\\hline\n",
       "\t 91 & 1961-10-19 & CAMBODIA & cambodians\\\\\n",
       "\t 91 & 1961-10-19 & CAMBODIA & greet     \\\\\n",
       "\t 91 & 1961-10-19 & CAMBODIA & bowing    \\\\\n",
       "\t 91 & 1961-10-19 & CAMBODIA & hands     \\\\\n",
       "\t 91 & 1961-10-19 & CAMBODIA & position  \\\\\n",
       "\t 91 & 1961-10-19 & CAMBODIA & prayer    \\\\\n",
       "\t 91 & 1961-10-19 & CAMBODIA & large     \\\\\n",
       "\t 91 & 1961-10-19 & CAMBODIA & cities    \\\\\n",
       "\t 91 & 1961-10-19 & CAMBODIA & now       \\\\\n",
       "\t 91 & 1961-10-19 & CAMBODIA & shake     \\\\\n",
       "\t 91 & 1961-10-19 & CAMBODIA & hands     \\\\\n",
       "\t 91 & 1961-10-19 & CAMBODIA & common    \\\\\n",
       "\t 91 & 1961-10-19 & CAMBODIA & practice  \\\\\n",
       "\t 91 & 1961-10-19 & CAMBODIA & something \\\\\n",
       "\t 91 & 1961-10-19 & CAMBODIA & appear    \\\\\n",
       "\t 91 & 1961-10-19 & CAMBODIA & highly    \\\\\n",
       "\t 91 & 1961-10-19 & CAMBODIA & unusual   \\\\\n",
       "\t 91 & 1961-10-19 & CAMBODIA & westerners\\\\\n",
       "\t 91 & 1961-10-19 & CAMBODIA & cambodian \\\\\n",
       "\t 91 & 1961-10-19 & CAMBODIA & custom    \\\\\n",
       "\t 91 & 1961-10-19 & CAMBODIA & holding   \\\\\n",
       "\t 91 & 1961-10-19 & CAMBODIA & hands     \\\\\n",
       "\t 91 & 1961-10-19 & CAMBODIA & friends   \\\\\n",
       "\t 91 & 1961-10-19 & CAMBODIA & sex       \\\\\n",
       "\t 91 & 1961-10-19 & CAMBODIA & roughly   \\\\\n",
       "\t 91 & 1961-10-19 & CAMBODIA & equivalent\\\\\n",
       "\t 91 & 1961-10-19 & CAMBODIA & american  \\\\\n",
       "\t 91 & 1961-10-19 & CAMBODIA & custom    \\\\\n",
       "\t 91 & 1961-10-19 & CAMBODIA & slapping  \\\\\n",
       "\t 91 & 1961-10-19 & CAMBODIA & good      \\\\\n",
       "\t ⋮ & ⋮ & ⋮ & ⋮\\\\\n",
       "\t 101 & 1972-03-03 & Kindly Old Lady Exposes The Brutality of \"The Automated Air War\" & maybe       \\\\\n",
       "\t 101 & 1972-03-03 & Kindly Old Lady Exposes The Brutality of \"The Automated Air War\" & began       \\\\\n",
       "\t 101 & 1972-03-03 & Kindly Old Lady Exposes The Brutality of \"The Automated Air War\" & bearded     \\\\\n",
       "\t 101 & 1972-03-03 & Kindly Old Lady Exposes The Brutality of \"The Automated Air War\" & bowdoin     \\\\\n",
       "\t 101 & 1972-03-03 & Kindly Old Lady Exposes The Brutality of \"The Automated Air War\" & student     \\\\\n",
       "\t 101 & 1972-03-03 & Kindly Old Lady Exposes The Brutality of \"The Automated Air War\" & getting     \\\\\n",
       "\t 101 & 1972-03-03 & Kindly Old Lady Exposes The Brutality of \"The Automated Air War\" & heart       \\\\\n",
       "\t 101 & 1972-03-03 & Kindly Old Lady Exposes The Brutality of \"The Automated Air War\" & need        \\\\\n",
       "\t 101 & 1972-03-03 & Kindly Old Lady Exposes The Brutality of \"The Automated Air War\" & revolution  \\\\\n",
       "\t 101 & 1972-03-03 & Kindly Old Lady Exposes The Brutality of \"The Automated Air War\" & maybe       \\\\\n",
       "\t 101 & 1972-03-03 & Kindly Old Lady Exposes The Brutality of \"The Automated Air War\" & need        \\\\\n",
       "\t 101 & 1972-03-03 & Kindly Old Lady Exposes The Brutality of \"The Automated Air War\" & kidnap      \\\\\n",
       "\t 101 & 1972-03-03 & Kindly Old Lady Exposes The Brutality of \"The Automated Air War\" & kissinger   \\\\\n",
       "\t 101 & 1972-03-03 & Kindly Old Lady Exposes The Brutality of \"The Automated Air War\" & american    \\\\\n",
       "\t 101 & 1972-03-03 & Kindly Old Lady Exposes The Brutality of \"The Automated Air War\" & foreign     \\\\\n",
       "\t 101 & 1972-03-03 & Kindly Old Lady Exposes The Brutality of \"The Automated Air War\" & aid         \\\\\n",
       "\t 101 & 1972-03-03 & Kindly Old Lady Exposes The Brutality of \"The Automated Air War\" & program     \\\\\n",
       "\t 101 & 1972-03-03 & Kindly Old Lady Exposes The Brutality of \"The Automated Air War\" & offers      \\\\\n",
       "\t 101 & 1972-03-03 & Kindly Old Lady Exposes The Brutality of \"The Automated Air War\" & best        \\\\\n",
       "\t 101 & 1972-03-03 & Kindly Old Lady Exposes The Brutality of \"The Automated Air War\" & know        \\\\\n",
       "\t 101 & 1972-03-03 & Kindly Old Lady Exposes The Brutality of \"The Automated Air War\" & ingenuity   \\\\\n",
       "\t 101 & 1972-03-03 & Kindly Old Lady Exposes The Brutality of \"The Automated Air War\" & backward    \\\\\n",
       "\t 101 & 1972-03-03 & Kindly Old Lady Exposes The Brutality of \"The Automated Air War\" & countries   \\\\\n",
       "\t 101 & 1972-03-03 & Kindly Old Lady Exposes The Brutality of \"The Automated Air War\" & pictured    \\\\\n",
       "\t 101 & 1972-03-03 & Kindly Old Lady Exposes The Brutality of \"The Automated Air War\" & americas    \\\\\n",
       "\t 101 & 1972-03-03 & Kindly Old Lady Exposes The Brutality of \"The Automated Air War\" & contribution\\\\\n",
       "\t 101 & 1972-03-03 & Kindly Old Lady Exposes The Brutality of \"The Automated Air War\" & north       \\\\\n",
       "\t 101 & 1972-03-03 & Kindly Old Lady Exposes The Brutality of \"The Automated Air War\" & vietnams    \\\\\n",
       "\t 101 & 1972-03-03 & Kindly Old Lady Exposes The Brutality of \"The Automated Air War\" & fall        \\\\\n",
       "\t 101 & 1972-03-03 & Kindly Old Lady Exposes The Brutality of \"The Automated Air War\" & crop        \\\\\n",
       "\\end{tabular}\n"
      ],
      "text/markdown": [
       "\n",
       "A tibble: 42731 × 4\n",
       "\n",
       "| issue &lt;dbl&gt; | date &lt;date&gt; | title &lt;chr&gt; | word &lt;chr&gt; |\n",
       "|---|---|---|---|\n",
       "| 91 | 1961-10-19 | CAMBODIA | cambodians |\n",
       "| 91 | 1961-10-19 | CAMBODIA | greet      |\n",
       "| 91 | 1961-10-19 | CAMBODIA | bowing     |\n",
       "| 91 | 1961-10-19 | CAMBODIA | hands      |\n",
       "| 91 | 1961-10-19 | CAMBODIA | position   |\n",
       "| 91 | 1961-10-19 | CAMBODIA | prayer     |\n",
       "| 91 | 1961-10-19 | CAMBODIA | large      |\n",
       "| 91 | 1961-10-19 | CAMBODIA | cities     |\n",
       "| 91 | 1961-10-19 | CAMBODIA | now        |\n",
       "| 91 | 1961-10-19 | CAMBODIA | shake      |\n",
       "| 91 | 1961-10-19 | CAMBODIA | hands      |\n",
       "| 91 | 1961-10-19 | CAMBODIA | common     |\n",
       "| 91 | 1961-10-19 | CAMBODIA | practice   |\n",
       "| 91 | 1961-10-19 | CAMBODIA | something  |\n",
       "| 91 | 1961-10-19 | CAMBODIA | appear     |\n",
       "| 91 | 1961-10-19 | CAMBODIA | highly     |\n",
       "| 91 | 1961-10-19 | CAMBODIA | unusual    |\n",
       "| 91 | 1961-10-19 | CAMBODIA | westerners |\n",
       "| 91 | 1961-10-19 | CAMBODIA | cambodian  |\n",
       "| 91 | 1961-10-19 | CAMBODIA | custom     |\n",
       "| 91 | 1961-10-19 | CAMBODIA | holding    |\n",
       "| 91 | 1961-10-19 | CAMBODIA | hands      |\n",
       "| 91 | 1961-10-19 | CAMBODIA | friends    |\n",
       "| 91 | 1961-10-19 | CAMBODIA | sex        |\n",
       "| 91 | 1961-10-19 | CAMBODIA | roughly    |\n",
       "| 91 | 1961-10-19 | CAMBODIA | equivalent |\n",
       "| 91 | 1961-10-19 | CAMBODIA | american   |\n",
       "| 91 | 1961-10-19 | CAMBODIA | custom     |\n",
       "| 91 | 1961-10-19 | CAMBODIA | slapping   |\n",
       "| 91 | 1961-10-19 | CAMBODIA | good       |\n",
       "| ⋮ | ⋮ | ⋮ | ⋮ |\n",
       "| 101 | 1972-03-03 | Kindly Old Lady Exposes The Brutality of \"The Automated Air War\" | maybe        |\n",
       "| 101 | 1972-03-03 | Kindly Old Lady Exposes The Brutality of \"The Automated Air War\" | began        |\n",
       "| 101 | 1972-03-03 | Kindly Old Lady Exposes The Brutality of \"The Automated Air War\" | bearded      |\n",
       "| 101 | 1972-03-03 | Kindly Old Lady Exposes The Brutality of \"The Automated Air War\" | bowdoin      |\n",
       "| 101 | 1972-03-03 | Kindly Old Lady Exposes The Brutality of \"The Automated Air War\" | student      |\n",
       "| 101 | 1972-03-03 | Kindly Old Lady Exposes The Brutality of \"The Automated Air War\" | getting      |\n",
       "| 101 | 1972-03-03 | Kindly Old Lady Exposes The Brutality of \"The Automated Air War\" | heart        |\n",
       "| 101 | 1972-03-03 | Kindly Old Lady Exposes The Brutality of \"The Automated Air War\" | need         |\n",
       "| 101 | 1972-03-03 | Kindly Old Lady Exposes The Brutality of \"The Automated Air War\" | revolution   |\n",
       "| 101 | 1972-03-03 | Kindly Old Lady Exposes The Brutality of \"The Automated Air War\" | maybe        |\n",
       "| 101 | 1972-03-03 | Kindly Old Lady Exposes The Brutality of \"The Automated Air War\" | need         |\n",
       "| 101 | 1972-03-03 | Kindly Old Lady Exposes The Brutality of \"The Automated Air War\" | kidnap       |\n",
       "| 101 | 1972-03-03 | Kindly Old Lady Exposes The Brutality of \"The Automated Air War\" | kissinger    |\n",
       "| 101 | 1972-03-03 | Kindly Old Lady Exposes The Brutality of \"The Automated Air War\" | american     |\n",
       "| 101 | 1972-03-03 | Kindly Old Lady Exposes The Brutality of \"The Automated Air War\" | foreign      |\n",
       "| 101 | 1972-03-03 | Kindly Old Lady Exposes The Brutality of \"The Automated Air War\" | aid          |\n",
       "| 101 | 1972-03-03 | Kindly Old Lady Exposes The Brutality of \"The Automated Air War\" | program      |\n",
       "| 101 | 1972-03-03 | Kindly Old Lady Exposes The Brutality of \"The Automated Air War\" | offers       |\n",
       "| 101 | 1972-03-03 | Kindly Old Lady Exposes The Brutality of \"The Automated Air War\" | best         |\n",
       "| 101 | 1972-03-03 | Kindly Old Lady Exposes The Brutality of \"The Automated Air War\" | know         |\n",
       "| 101 | 1972-03-03 | Kindly Old Lady Exposes The Brutality of \"The Automated Air War\" | ingenuity    |\n",
       "| 101 | 1972-03-03 | Kindly Old Lady Exposes The Brutality of \"The Automated Air War\" | backward     |\n",
       "| 101 | 1972-03-03 | Kindly Old Lady Exposes The Brutality of \"The Automated Air War\" | countries    |\n",
       "| 101 | 1972-03-03 | Kindly Old Lady Exposes The Brutality of \"The Automated Air War\" | pictured     |\n",
       "| 101 | 1972-03-03 | Kindly Old Lady Exposes The Brutality of \"The Automated Air War\" | americas     |\n",
       "| 101 | 1972-03-03 | Kindly Old Lady Exposes The Brutality of \"The Automated Air War\" | contribution |\n",
       "| 101 | 1972-03-03 | Kindly Old Lady Exposes The Brutality of \"The Automated Air War\" | north        |\n",
       "| 101 | 1972-03-03 | Kindly Old Lady Exposes The Brutality of \"The Automated Air War\" | vietnams     |\n",
       "| 101 | 1972-03-03 | Kindly Old Lady Exposes The Brutality of \"The Automated Air War\" | fall         |\n",
       "| 101 | 1972-03-03 | Kindly Old Lady Exposes The Brutality of \"The Automated Air War\" | crop         |\n",
       "\n"
      ],
      "text/plain": [
       "      issue date      \n",
       "1     91    1961-10-19\n",
       "2     91    1961-10-19\n",
       "3     91    1961-10-19\n",
       "4     91    1961-10-19\n",
       "5     91    1961-10-19\n",
       "6     91    1961-10-19\n",
       "7     91    1961-10-19\n",
       "8     91    1961-10-19\n",
       "9     91    1961-10-19\n",
       "10    91    1961-10-19\n",
       "11    91    1961-10-19\n",
       "12    91    1961-10-19\n",
       "13    91    1961-10-19\n",
       "14    91    1961-10-19\n",
       "15    91    1961-10-19\n",
       "16    91    1961-10-19\n",
       "17    91    1961-10-19\n",
       "18    91    1961-10-19\n",
       "19    91    1961-10-19\n",
       "20    91    1961-10-19\n",
       "21    91    1961-10-19\n",
       "22    91    1961-10-19\n",
       "23    91    1961-10-19\n",
       "24    91    1961-10-19\n",
       "25    91    1961-10-19\n",
       "26    91    1961-10-19\n",
       "27    91    1961-10-19\n",
       "28    91    1961-10-19\n",
       "29    91    1961-10-19\n",
       "30    91    1961-10-19\n",
       "⋮     ⋮     ⋮         \n",
       "42702 101   1972-03-03\n",
       "42703 101   1972-03-03\n",
       "42704 101   1972-03-03\n",
       "42705 101   1972-03-03\n",
       "42706 101   1972-03-03\n",
       "42707 101   1972-03-03\n",
       "42708 101   1972-03-03\n",
       "42709 101   1972-03-03\n",
       "42710 101   1972-03-03\n",
       "42711 101   1972-03-03\n",
       "42712 101   1972-03-03\n",
       "42713 101   1972-03-03\n",
       "42714 101   1972-03-03\n",
       "42715 101   1972-03-03\n",
       "42716 101   1972-03-03\n",
       "42717 101   1972-03-03\n",
       "42718 101   1972-03-03\n",
       "42719 101   1972-03-03\n",
       "42720 101   1972-03-03\n",
       "42721 101   1972-03-03\n",
       "42722 101   1972-03-03\n",
       "42723 101   1972-03-03\n",
       "42724 101   1972-03-03\n",
       "42725 101   1972-03-03\n",
       "42726 101   1972-03-03\n",
       "42727 101   1972-03-03\n",
       "42728 101   1972-03-03\n",
       "42729 101   1972-03-03\n",
       "42730 101   1972-03-03\n",
       "42731 101   1972-03-03\n",
       "      title                                                           \n",
       "1     CAMBODIA                                                        \n",
       "2     CAMBODIA                                                        \n",
       "3     CAMBODIA                                                        \n",
       "4     CAMBODIA                                                        \n",
       "5     CAMBODIA                                                        \n",
       "6     CAMBODIA                                                        \n",
       "7     CAMBODIA                                                        \n",
       "8     CAMBODIA                                                        \n",
       "9     CAMBODIA                                                        \n",
       "10    CAMBODIA                                                        \n",
       "11    CAMBODIA                                                        \n",
       "12    CAMBODIA                                                        \n",
       "13    CAMBODIA                                                        \n",
       "14    CAMBODIA                                                        \n",
       "15    CAMBODIA                                                        \n",
       "16    CAMBODIA                                                        \n",
       "17    CAMBODIA                                                        \n",
       "18    CAMBODIA                                                        \n",
       "19    CAMBODIA                                                        \n",
       "20    CAMBODIA                                                        \n",
       "21    CAMBODIA                                                        \n",
       "22    CAMBODIA                                                        \n",
       "23    CAMBODIA                                                        \n",
       "24    CAMBODIA                                                        \n",
       "25    CAMBODIA                                                        \n",
       "26    CAMBODIA                                                        \n",
       "27    CAMBODIA                                                        \n",
       "28    CAMBODIA                                                        \n",
       "29    CAMBODIA                                                        \n",
       "30    CAMBODIA                                                        \n",
       "⋮     ⋮                                                               \n",
       "42702 Kindly Old Lady Exposes The Brutality of \"The Automated Air War\"\n",
       "42703 Kindly Old Lady Exposes The Brutality of \"The Automated Air War\"\n",
       "42704 Kindly Old Lady Exposes The Brutality of \"The Automated Air War\"\n",
       "42705 Kindly Old Lady Exposes The Brutality of \"The Automated Air War\"\n",
       "42706 Kindly Old Lady Exposes The Brutality of \"The Automated Air War\"\n",
       "42707 Kindly Old Lady Exposes The Brutality of \"The Automated Air War\"\n",
       "42708 Kindly Old Lady Exposes The Brutality of \"The Automated Air War\"\n",
       "42709 Kindly Old Lady Exposes The Brutality of \"The Automated Air War\"\n",
       "42710 Kindly Old Lady Exposes The Brutality of \"The Automated Air War\"\n",
       "42711 Kindly Old Lady Exposes The Brutality of \"The Automated Air War\"\n",
       "42712 Kindly Old Lady Exposes The Brutality of \"The Automated Air War\"\n",
       "42713 Kindly Old Lady Exposes The Brutality of \"The Automated Air War\"\n",
       "42714 Kindly Old Lady Exposes The Brutality of \"The Automated Air War\"\n",
       "42715 Kindly Old Lady Exposes The Brutality of \"The Automated Air War\"\n",
       "42716 Kindly Old Lady Exposes The Brutality of \"The Automated Air War\"\n",
       "42717 Kindly Old Lady Exposes The Brutality of \"The Automated Air War\"\n",
       "42718 Kindly Old Lady Exposes The Brutality of \"The Automated Air War\"\n",
       "42719 Kindly Old Lady Exposes The Brutality of \"The Automated Air War\"\n",
       "42720 Kindly Old Lady Exposes The Brutality of \"The Automated Air War\"\n",
       "42721 Kindly Old Lady Exposes The Brutality of \"The Automated Air War\"\n",
       "42722 Kindly Old Lady Exposes The Brutality of \"The Automated Air War\"\n",
       "42723 Kindly Old Lady Exposes The Brutality of \"The Automated Air War\"\n",
       "42724 Kindly Old Lady Exposes The Brutality of \"The Automated Air War\"\n",
       "42725 Kindly Old Lady Exposes The Brutality of \"The Automated Air War\"\n",
       "42726 Kindly Old Lady Exposes The Brutality of \"The Automated Air War\"\n",
       "42727 Kindly Old Lady Exposes The Brutality of \"The Automated Air War\"\n",
       "42728 Kindly Old Lady Exposes The Brutality of \"The Automated Air War\"\n",
       "42729 Kindly Old Lady Exposes The Brutality of \"The Automated Air War\"\n",
       "42730 Kindly Old Lady Exposes The Brutality of \"The Automated Air War\"\n",
       "42731 Kindly Old Lady Exposes The Brutality of \"The Automated Air War\"\n",
       "      word        \n",
       "1     cambodians  \n",
       "2     greet       \n",
       "3     bowing      \n",
       "4     hands       \n",
       "5     position    \n",
       "6     prayer      \n",
       "7     large       \n",
       "8     cities      \n",
       "9     now         \n",
       "10    shake       \n",
       "11    hands       \n",
       "12    common      \n",
       "13    practice    \n",
       "14    something   \n",
       "15    appear      \n",
       "16    highly      \n",
       "17    unusual     \n",
       "18    westerners  \n",
       "19    cambodian   \n",
       "20    custom      \n",
       "21    holding     \n",
       "22    hands       \n",
       "23    friends     \n",
       "24    sex         \n",
       "25    roughly     \n",
       "26    equivalent  \n",
       "27    american    \n",
       "28    custom      \n",
       "29    slapping    \n",
       "30    good        \n",
       "⋮     ⋮           \n",
       "42702 maybe       \n",
       "42703 began       \n",
       "42704 bearded     \n",
       "42705 bowdoin     \n",
       "42706 student     \n",
       "42707 getting     \n",
       "42708 heart       \n",
       "42709 need        \n",
       "42710 revolution  \n",
       "42711 maybe       \n",
       "42712 need        \n",
       "42713 kidnap      \n",
       "42714 kissinger   \n",
       "42715 american    \n",
       "42716 foreign     \n",
       "42717 aid         \n",
       "42718 program     \n",
       "42719 offers      \n",
       "42720 best        \n",
       "42721 know        \n",
       "42722 ingenuity   \n",
       "42723 backward    \n",
       "42724 countries   \n",
       "42725 pictured    \n",
       "42726 americas    \n",
       "42727 contribution\n",
       "42728 north       \n",
       "42729 vietnams    \n",
       "42730 fall        \n",
       "42731 crop        "
      ]
     },
     "metadata": {},
     "output_type": "display_data"
    }
   ],
   "source": [
    "corpus[1:4]"
   ]
  },
  {
   "cell_type": "markdown",
   "id": "a40d050c-05df-4c35-b7b5-0f67cfe5a88c",
   "metadata": {},
   "source": [
    "## Sentiment Analysis"
   ]
  },
  {
   "cell_type": "code",
   "execution_count": 270,
   "id": "ef7a4a95-c110-454b-8869-c6b3dfdc59b2",
   "metadata": {},
   "outputs": [],
   "source": [
    "# Create a \"new\" corpus tibble that is comprised only of the words present in both the sentiment lexicon and the articles\n",
    "corpus_sentiment <- inner_join(corpus, bing_lexicon, by = \"word\")\n",
    "\n",
    "parsed_corpus_sentiment <- corpus_sentiment %>%  select(1, 2, 3, 4, 6) # To display tibble without full body text"
   ]
  },
  {
   "cell_type": "code",
   "execution_count": 271,
   "id": "b9fa3918-aad9-4d64-beaf-1172c879b2b5",
   "metadata": {},
   "outputs": [],
   "source": [
    "#parsed_corpus_sentiment"
   ]
  },
  {
   "cell_type": "markdown",
   "id": "90e87854-d217-4d7a-92ce-7431a6fe1a94",
   "metadata": {},
   "source": [
    "### Sentiment Score by Article Title"
   ]
  },
  {
   "cell_type": "code",
   "execution_count": 272,
   "id": "36c4d288-6c68-4280-aa3b-a9b73818d615",
   "metadata": {},
   "outputs": [],
   "source": [
    "# Filter the sentiment corpus, making a new one with just the title of an article and it's total sentiment score\n",
    "sentiment_scores_by_title <- corpus_sentiment %>%\n",
    "    group_by(title) %>%\n",
    "    summarize(score = sum(sentiment == \"positive\") - sum(sentiment == \"negative\"))"
   ]
  },
  {
   "cell_type": "code",
   "execution_count": 273,
   "id": "a0a801a4-3ed8-48d9-aaaa-dab1c5e8314c",
   "metadata": {},
   "outputs": [],
   "source": [
    "#sentiment_scores_by_title"
   ]
  },
  {
   "cell_type": "code",
   "execution_count": 274,
   "id": "972cb952-fa38-467c-bccb-a084d0a71bea",
   "metadata": {},
   "outputs": [
    {
     "data": {
      "image/png": "[encoded data removed]",
      "text/plain": [
       "plot without title"
      ]
     },
     "metadata": {
      "image/png": {
       "height": 420,
       "width": 420
      }
     },
     "output_type": "display_data"
    }
   ],
   "source": [
    "# Create a bar plot of sentiment scores by title\n",
    "ggplot(sentiment_scores_by_title, aes(x = title, y = score)) +\n",
    "    geom_bar(stat = \"identity\", fill = \"blue\") +\n",
    "    labs(x = \"Article Title\", y = \"Sentiment Score\", title = \"Sentiment Scores of Articles\")"
   ]
  },
  {
   "cell_type": "markdown",
   "id": "00fed26c-bb5d-45b1-aaf8-9d4406256b33",
   "metadata": {},
   "source": [
    "### Sentiment Score by Article Issue"
   ]
  },
  {
   "cell_type": "code",
   "execution_count": 275,
   "id": "ffea34bc-6ad5-4984-91d0-f1c6373ea6cf",
   "metadata": {},
   "outputs": [],
   "source": [
    "sentiment_scores_by_issue <- corpus_sentiment %>%\n",
    "    group_by(issue) %>%\n",
    "    summarize(score = sum(sentiment == \"positive\") - sum(sentiment == \"negative\"))"
   ]
  },
  {
   "cell_type": "code",
   "execution_count": 276,
   "id": "3d0d24be-49ef-43d2-b599-b8074e16c272",
   "metadata": {},
   "outputs": [],
   "source": [
    "#sentiment_scores_by_issue"
   ]
  },
  {
   "cell_type": "code",
   "execution_count": 277,
   "id": "664a0a32-b16f-4390-b30e-3a758a564bc9",
   "metadata": {},
   "outputs": [
    {
     "data": {
      "image/png": "[encoded data removed]",
      "text/plain": [
       "plot without title"
      ]
     },
     "metadata": {
      "image/png": {
       "height": 420,
       "width": 420
      }
     },
     "output_type": "display_data"
    }
   ],
   "source": [
    "# Create a bar plot of sentiment scores by issue\n",
    "ggplot(sentiment_scores_by_issue, aes(x = issue, y = score)) +\n",
    "    geom_bar(stat = \"identity\", fill = \"blue\") +\n",
    "    labs(x = \"Article Issue\", y = \"Sentiment Score\", title = \"Sentiment Scores of Issues\")"
   ]
  },
  {
   "cell_type": "markdown",
   "id": "34950468-da21-4d99-a916-3bcb9605e9e5",
   "metadata": {},
   "source": [
    "### Sentiment Score by Article Publication Date"
   ]
  },
  {
   "cell_type": "code",
   "execution_count": 278,
   "id": "10b59d1e-366a-495f-bd2e-33af18ca4b18",
   "metadata": {},
   "outputs": [],
   "source": [
    "sentiment_scores_by_date <- corpus_sentiment %>%\n",
    "    group_by(date) %>%\n",
    "    summarize(score = sum(sentiment == \"positive\") - sum(sentiment == \"negative\"))"
   ]
  },
  {
   "cell_type": "code",
   "execution_count": 279,
   "id": "5a8f6c07-cc88-4000-8216-fba1ac53257e",
   "metadata": {},
   "outputs": [],
   "source": [
    "#sentiment_scores_by_date"
   ]
  },
  {
   "cell_type": "code",
   "execution_count": 280,
   "id": "ab6634d2-bb5b-4ff5-be7a-11a92d5b3040",
   "metadata": {},
   "outputs": [
    {
     "data": {
      "image/png": "[encoded data removed]",
      "text/plain": [
       "plot without title"
      ]
     },
     "metadata": {
      "image/png": {
       "height": 420,
       "width": 420
      }
     },
     "output_type": "display_data"
    }
   ],
   "source": [
    "# Create a bar plot of sentiment scores by date\n",
    "ggplot(sentiment_scores_by_date, aes(x = date, y = score)) +\n",
    "    geom_bar(stat = \"identity\", fill = \"blue\") +\n",
    "    labs(x = \"Article Publication Date\", y = \"Sentiment Score\", title = \"Sentiment Scores of Dates\")"
   ]
  },
  {
   "cell_type": "markdown",
   "id": "2dac3c1d-0c74-47ec-9af8-fafbb9751835",
   "metadata": {},
   "source": [
    "### WIP"
   ]
  },
  {
   "cell_type": "code",
   "execution_count": 281,
   "id": "034025c0-da98-4bc1-9d83-6a861fb0235f",
   "metadata": {},
   "outputs": [
    {
     "name": "stderr",
     "output_type": "stream",
     "text": [
      "\u001b[1m\u001b[22m`summarise()` has grouped output by 'issue'. You can override using the\n",
      "`.groups` argument.\n"
     ]
    }
   ],
   "source": [
    "sentiment_scores_by_issue_date <- corpus_sentiment %>%\n",
    "  group_by(issue, date) %>%\n",
    "  summarize(score = sum(sentiment == \"positive\") - sum(sentiment == \"negative\"))"
   ]
  },
  {
   "cell_type": "code",
   "execution_count": 282,
   "id": "dc16e534-bed1-420d-8b4a-6d7273640445",
   "metadata": {},
   "outputs": [],
   "source": [
    "#sentiment_scores_by_issue_date"
   ]
  },
  {
   "cell_type": "markdown",
   "id": "50a5e506-4d41-4eab-821f-f2455c81109c",
   "metadata": {},
   "source": [
    "### Most Frequenty Article Words by Sentiment"
   ]
  },
  {
   "cell_type": "code",
   "execution_count": 283,
   "id": "2f6ffdb6-f689-41d9-9c9c-a21729eb7382",
   "metadata": {},
   "outputs": [
    {
     "name": "stderr",
     "output_type": "stream",
     "text": [
      "\u001b[1m\u001b[22mJoining, by = c(\"word\", \"sentiment\")\n"
     ]
    }
   ],
   "source": [
    "sentiment_word_counts <- corpus_sentiment %>%\n",
    "    inner_join(bing_lexicon) %>%\n",
    "    count(word, sentiment, sort = TRUE) %>%\n",
    "    ungroup()"
   ]
  },
  {
   "cell_type": "code",
   "execution_count": 284,
   "id": "8edec78a-764d-4929-8c82-407754dfeb9e",
   "metadata": {},
   "outputs": [
    {
     "data": {
      "image/png": "[encoded data removed]",
      "text/plain": [
       "plot without title"
      ]
     },
     "metadata": {
      "image/png": {
       "height": 420,
       "width": 420
      }
     },
     "output_type": "display_data"
    }
   ],
   "source": [
    "sentiment_word_counts %>%\n",
    "    group_by(sentiment) %>%\n",
    "    slice_max(n, n = 10) %>% \n",
    "    ungroup() %>%\n",
    "    mutate(word = reorder(word, n)) %>%\n",
    "\n",
    "    ggplot(aes(n, word, fill = sentiment)) +\n",
    "    geom_col(show.legend = FALSE) +\n",
    "    facet_wrap(~sentiment, scales = \"free_y\") +\n",
    "    labs(x = \"# Occurrences\", y = \"Word\")"
   ]
  },
  {
   "cell_type": "code",
   "execution_count": null,
   "id": "fe1be409-dc45-44ac-9b5f-1f7196db947f",
   "metadata": {},
   "outputs": [],
   "source": []
  }
 ],
 "metadata": {
  "kernelspec": {
   "display_name": "R 4.2",
   "language": "R",
   "name": "ir"
  },
  "language_info": {
   "codemirror_mode": "r",
   "file_extension": ".r",
   "mimetype": "text/x-r-source",
   "name": "R",
   "pygments_lexer": "r",
   "version": "4.2.2"
  }
 },
 "nbformat": 4,
 "nbformat_minor": 5
}
